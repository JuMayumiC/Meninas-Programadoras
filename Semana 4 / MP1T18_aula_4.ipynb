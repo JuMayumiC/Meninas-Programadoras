{
  "nbformat": 4,
  "nbformat_minor": 0,
  "metadata": {
    "colab": {
      "provenance": [],
      "include_colab_link": true
    },
    "kernelspec": {
      "name": "python3",
      "display_name": "Python 3"
    },
    "language_info": {
      "name": "python"
    }
  },
  "cells": [
    {
      "cell_type": "markdown",
      "metadata": {
        "id": "view-in-github",
        "colab_type": "text"
      },
      "source": [
        "<a href=\"https://colab.research.google.com/github/JuMayumiC/Meninas-Programadoras/blob/main/Semana%204%20/%20MP1T18_aula_4.ipynb\" target=\"_parent\"><img src=\"https://colab.research.google.com/assets/colab-badge.svg\" alt=\"Open In Colab\"/></a>"
      ]
    },
    {
      "cell_type": "code",
      "execution_count": null,
      "metadata": {
        "colab": {
          "base_uri": "https://localhost:8080/"
        },
        "id": "EoEHokw8I_uE",
        "outputId": "3b23db3c-6a91-4a00-d41c-79f1c68fc1bb"
      },
      "outputs": [
        {
          "output_type": "stream",
          "name": "stdout",
          "text": [
            "nope\n"
          ]
        }
      ],
      "source": [
        "nome = 'Maria da Graça'\n",
        "parte = 'maria'\n",
        "if parte in nome:\n",
        "  print('ok')\n",
        "else:\n",
        "  print('nope')"
      ]
    },
    {
      "cell_type": "code",
      "source": [
        "nome = 'Maria da Graça'\n",
        "parte = 'Maria'\n",
        "if parte in nome:\n",
        "  print('ok')\n",
        "else:\n",
        "  print('nope')"
      ],
      "metadata": {
        "colab": {
          "base_uri": "https://localhost:8080/"
        },
        "id": "U6JVjapDKSVO",
        "outputId": "4cdb4caf-5223-49fe-911f-881e39c42201"
      },
      "execution_count": null,
      "outputs": [
        {
          "output_type": "stream",
          "name": "stdout",
          "text": [
            "ok\n"
          ]
        }
      ]
    },
    {
      "cell_type": "markdown",
      "source": [
        "##Dada uma letra, ela é uma vogal?"
      ],
      "metadata": {
        "id": "nMRW58zCKXSF"
      }
    },
    {
      "cell_type": "code",
      "source": [
        "vogais = 'aeiouAEIOU'\n",
        "letra = input()\n",
        "if letra in vogais:\n",
        "  print('vogal')\n",
        "else:\n",
        "  print('nao vogal')"
      ],
      "metadata": {
        "colab": {
          "base_uri": "https://localhost:8080/"
        },
        "id": "D3KJ4BRMKd8M",
        "outputId": "ec97d71f-0995-44ec-903a-d54449d7c2fa"
      },
      "execution_count": null,
      "outputs": [
        {
          "output_type": "stream",
          "name": "stdout",
          "text": [
            "i\n",
            "vogal\n"
          ]
        }
      ]
    },
    {
      "cell_type": "code",
      "source": [
        "frutas = ['banana', 'caqui', 'laranja']\n",
        "vogais = ['a', 'e', 'i', 'o', 'u']\n",
        "precos = [12, 15, 19.5, 23, 9.99]\n",
        "vazia = []\n",
        "palavras_reservadas = ['if', 'else', 'elif', 'while', 'in', 'not']\n",
        "funcoes_prontas = ['input', 'print', 'float', 'int', 'str']"
      ],
      "metadata": {
        "id": "Ias-OOLgMCj3"
      },
      "execution_count": null,
      "outputs": []
    },
    {
      "cell_type": "code",
      "source": [
        "nome = 'abacaxi'  # pg 165\n",
        "frutas = ['uva', 'carambola']\n",
        "nome = frutas     # pg 73\n",
        "print(nome)\n",
        "print(frutas)"
      ],
      "metadata": {
        "id": "cBtAaZKwN2A0"
      },
      "execution_count": null,
      "outputs": []
    },
    {
      "cell_type": "code",
      "source": [
        "cateto1 = int(input())\n",
        "cateto2 = int(input())\n",
        "hipotenusa = cateto1 * cateto1 + cateto2 * cateto2\n",
        "hipotenusa = (hipotenusa)**(1/2)\n",
        "print(hipotenusa)"
      ],
      "metadata": {
        "colab": {
          "base_uri": "https://localhost:8080/"
        },
        "id": "XRZYpYMNO4R8",
        "outputId": "2f261c0a-1876-4b14-d82d-dab113315c35"
      },
      "execution_count": null,
      "outputs": [
        {
          "output_type": "stream",
          "name": "stdout",
          "text": [
            "6\n",
            "9\n",
            "10.816653826391969\n"
          ]
        }
      ]
    },
    {
      "cell_type": "code",
      "source": [
        "palavras_reservadas = ['if', 'else', 'elif', 'while', 'in', 'not']\n",
        "funcoes_prontas = ['input', 'print', 'float', 'int', 'str']\n",
        "nome = input()\n",
        "if nome in palavras_reservadas:\n",
        "  print('palavra reservada')\n",
        "elif nome in funcoes_prontas:\n",
        "  print('função pronta')\n",
        "else:\n",
        "  print('pode ser nome de variavel se nao começar com digito nem simbolos especiais')"
      ],
      "metadata": {
        "colab": {
          "base_uri": "https://localhost:8080/"
        },
        "id": "GdA7CDQzQXA0",
        "outputId": "6d4c0399-0c0a-43e8-f6e2-546e9366aa3a"
      },
      "execution_count": null,
      "outputs": [
        {
          "output_type": "stream",
          "name": "stdout",
          "text": [
            "1nome\n",
            "pode ser nome de variavel se nao começar com digito nem simbolos especiais\n"
          ]
        }
      ]
    },
    {
      "cell_type": "markdown",
      "source": [
        "#**exemplo horroroso....**\n"
      ],
      "metadata": {
        "id": "v9zppysIT3uE"
      }
    },
    {
      "cell_type": "code",
      "source": [
        "palavras_reservadas = ['if', 'else', 'elif', 'while', 'in', 'not']\n",
        "funcoes_prontas = ['input', 'print', 'float', 'int', 'str']\n",
        "digitos = '0123456789'\n",
        "especiais = '!@#$%¨&*()-'\n",
        "\n",
        "nome = input()\n",
        "if nome in palavras_reservadas:\n",
        "  print('palavra reservada')\n",
        "elif nome in funcoes_prontas:\n",
        "  print('função pronta')\n",
        "else:\n",
        "  primeiro_caractere = nome[0]  # pego o primeiro caractere de nome\n",
        "  if primeiro_caractere in digitos:\n",
        "    print('nome de variavel nao pode começar com digito')\n",
        "  elif primeiro_caractere in especiais:\n",
        "    print('nome de variavel nao pode começar com especial')\n",
        "  else:\n",
        "    print('pode ser nome de variavel (quase)')"
      ],
      "metadata": {
        "colab": {
          "base_uri": "https://localhost:8080/"
        },
        "id": "HHB5iw4zRcca",
        "outputId": "1d9b4544-900d-49b7-b65b-6447cd7ce52d"
      },
      "execution_count": null,
      "outputs": [
        {
          "output_type": "stream",
          "name": "stdout",
          "text": [
            "*resposta\n",
            "nome de variavel nao pode começar com especial\n"
          ]
        }
      ]
    },
    {
      "cell_type": "code",
      "source": [
        "1nome = input()  #errado\n",
        "print(1nome)"
      ],
      "metadata": {
        "id": "CluOzcPASjJo"
      },
      "execution_count": null,
      "outputs": []
    },
    {
      "cell_type": "markdown",
      "source": [
        "## Regras para nome de variavel\n",
        "\n",
        "1. só pode conter letras ou digitos ou '_'\n",
        "1. nao pode ser palavra reservada\n",
        "1. nao pode começar com digito\n",
        "1. pode começar com letra ou '_'\n"
      ],
      "metadata": {
        "id": "dr-l-tKyTdsg"
      }
    },
    {
      "cell_type": "code",
      "source": [
        "nome = 'Maria da Graça'\n",
        "caractere = nome[0]\n",
        "print(caractere)\n",
        "\n",
        "caractere = nome[1]\n",
        "print(caractere)\n",
        "\n",
        "caractere = nome[2]\n",
        "print(caractere)\n",
        "\n",
        "caractere = nome[3]\n",
        "print(caractere)\n",
        "\n",
        "caractere = nome[4]\n",
        "print(caractere)\n",
        "\n",
        "caractere = nome[5]\n",
        "print(caractere)\n",
        "\n",
        "caractere = nome[6]\n",
        "print(caractere)"
      ],
      "metadata": {
        "colab": {
          "base_uri": "https://localhost:8080/"
        },
        "id": "vtijvgtuV06b",
        "outputId": "dcc98294-7b2e-42ae-90ed-7d895060428e"
      },
      "execution_count": null,
      "outputs": [
        {
          "output_type": "stream",
          "name": "stdout",
          "text": [
            "M\n",
            "a\n",
            "r\n",
            "i\n",
            "a\n",
            " \n",
            "d\n"
          ]
        }
      ]
    },
    {
      "cell_type": "code",
      "source": [
        "nome = 'Maria da Graça'\n",
        "caractere = nome[0]\n",
        "print(caractere)\n",
        "caractere = nome[-14]\n",
        "print(caractere)"
      ],
      "metadata": {
        "colab": {
          "base_uri": "https://localhost:8080/"
        },
        "id": "dxLxdZ_kWnyO",
        "outputId": "a5a9dec8-a086-4793-f871-0709b6220e5b"
      },
      "execution_count": null,
      "outputs": [
        {
          "output_type": "stream",
          "name": "stdout",
          "text": [
            "M\n",
            "M\n"
          ]
        }
      ]
    },
    {
      "cell_type": "code",
      "source": [
        "nome = 'Maria da Graça'\n",
        "caractere = nome[0]\n",
        "print(caractere)\n",
        "\n",
        "caractere = nome[1]\n",
        "print(caractere)\n",
        "\n",
        "caractere = nome[2]\n",
        "print(caractere)\n",
        "\n",
        "caractere = nome[3]\n",
        "print(caractere)\n",
        "\n",
        "caractere = nome[-3]\n",
        "print(caractere)\n",
        "\n",
        "caractere = nome[-2]\n",
        "print(caractere)\n",
        "\n",
        "caractere = nome[-1]\n",
        "print(caractere)"
      ],
      "metadata": {
        "colab": {
          "base_uri": "https://localhost:8080/"
        },
        "id": "ctqkz7RtTbcz",
        "outputId": "f6bd67d0-8415-4b84-c318-3b00c8001279"
      },
      "execution_count": null,
      "outputs": [
        {
          "output_type": "stream",
          "name": "stdout",
          "text": [
            "M\n",
            "a\n",
            "r\n",
            "i\n",
            "a\n",
            "ç\n",
            "a\n"
          ]
        }
      ]
    },
    {
      "cell_type": "code",
      "source": [
        "alturas = [1.55, 1.61, 1.78, 1.55, 1.79, 1.46, 1.41, 1.79]\n",
        "altura = alturas[0]\n",
        "print(altura)\n",
        "altura = alturas[-1]\n",
        "print(altura)\n",
        "print(alturas)\n",
        "\n",
        "tamanho = len(alturas)\n",
        "indice = int(input())\n",
        "valor = alturas[indice]\n",
        "print('na posicao', indice, 'a altura é', valor)"
      ],
      "metadata": {
        "colab": {
          "base_uri": "https://localhost:8080/"
        },
        "id": "fAY8TmUiXWr1",
        "outputId": "e9aa8a8b-9039-4cf3-fe16-c5e4a2b6bebe"
      },
      "execution_count": null,
      "outputs": [
        {
          "output_type": "stream",
          "name": "stdout",
          "text": [
            "1.55\n",
            "1.79\n",
            "[1.55, 1.61, 1.78, 1.55, 1.79, 1.46, 1.41, 1.79]\n"
          ]
        }
      ]
    },
    {
      "cell_type": "code",
      "source": [
        "alturas = [1.55, 1.61, 1.78, 1.55, 1.79, 1.46, 1.41, 1.79]\n",
        "tamanho = len(alturas)\n",
        "indice = int(input()) \n",
        "if indice > 0 and indice < tamanho:\n",
        "  valor = alturas[indice]\n",
        "  print('na posicao', indice, 'a altura é', valor)\n",
        "else:\n",
        "  print('indice mínimo é 0 e máximo é', tamanho-1)"
      ],
      "metadata": {
        "colab": {
          "base_uri": "https://localhost:8080/"
        },
        "id": "xQECLUu0h2Er",
        "outputId": "60cdecbe-2e99-4ea4-bb84-0c44034ee0ce"
      },
      "execution_count": null,
      "outputs": [
        {
          "output_type": "stream",
          "name": "stdout",
          "text": [
            "-8765\n",
            "indice mínimo é 0 e máximo é 7\n"
          ]
        }
      ]
    },
    {
      "cell_type": "markdown",
      "source": [
        "\n",
        "```\n",
        "        0     1         2      3\n",
        "lista-> Karen Grazielle Sofhia Poly\n",
        "lista-> Karen\n",
        "lista->\n",
        "\n",
        "        0     1         2      3\n",
        "lista-> Karen Grazielle Sofhia Poly\n",
        "tamanho: 4\n",
        "indice do último elemento: 3\n",
        "```"
      ],
      "metadata": {
        "id": "N9A5Y1Y2mDcc"
      }
    },
    {
      "cell_type": "code",
      "source": [
        "lista1 = ['Sofhia', 'Beatriz', 'Karen', 'Ana Luiza', 'Renata']\n",
        "print(lista1)\n",
        "print(lista1[0])\n",
        "print(lista1[1])\n",
        "print(lista1[2])\n",
        "print(lista1[3])\n",
        "print(lista1[-1])"
      ],
      "metadata": {
        "colab": {
          "base_uri": "https://localhost:8080/"
        },
        "id": "8G26WRUtlC6f",
        "outputId": "5f0f9bac-e367-4d25-b237-716f668fdd3a"
      },
      "execution_count": null,
      "outputs": [
        {
          "output_type": "stream",
          "name": "stdout",
          "text": [
            "['Sofhia', 'Beatriz', 'Karen', 'Ana Luiza', 'Renata']\n",
            "Sofhia\n",
            "Beatriz\n",
            "Karen\n",
            "Ana Luiza\n",
            "Renata\n"
          ]
        }
      ]
    },
    {
      "cell_type": "code",
      "source": [
        "nome = input()\n",
        "comprimento = len(nome)\n",
        "print('nome tem ', comprimento, 'caracteres')\n",
        "\n",
        "lista = [1, 2, 4, 8, 3, 0, 1]\n",
        "numero_itens = len(lista)\n",
        "print('lista tem ', numero_itens, 'itens')\n",
        "\n",
        "lista = [1, -99, 0.987, 2, 4, -1, -18, 3, 0, 1]\n",
        "numero_itens = len(lista)\n",
        "print('lista tem ', numero_itens, 'itens')"
      ],
      "metadata": {
        "colab": {
          "base_uri": "https://localhost:8080/",
          "height": 398
        },
        "id": "yYQRcWBMfdnK",
        "outputId": "4e31c1d2-ffd3-4f43-96be-07f581191bde"
      },
      "execution_count": null,
      "outputs": [
        {
          "output_type": "error",
          "ename": "KeyboardInterrupt",
          "evalue": "ignored",
          "traceback": [
            "\u001b[0;31m---------------------------------------------------------------------------\u001b[0m",
            "\u001b[0;31mKeyboardInterrupt\u001b[0m                         Traceback (most recent call last)",
            "\u001b[0;32m<ipython-input-35-a42b6e2ae92b>\u001b[0m in \u001b[0;36m<cell line: 1>\u001b[0;34m()\u001b[0m\n\u001b[0;32m----> 1\u001b[0;31m \u001b[0mnome\u001b[0m \u001b[0;34m=\u001b[0m \u001b[0minput\u001b[0m\u001b[0;34m(\u001b[0m\u001b[0;34m)\u001b[0m\u001b[0;34m\u001b[0m\u001b[0;34m\u001b[0m\u001b[0m\n\u001b[0m\u001b[1;32m      2\u001b[0m \u001b[0mcomprimento\u001b[0m \u001b[0;34m=\u001b[0m \u001b[0mlen\u001b[0m\u001b[0;34m(\u001b[0m\u001b[0mnome\u001b[0m\u001b[0;34m)\u001b[0m\u001b[0;34m\u001b[0m\u001b[0;34m\u001b[0m\u001b[0m\n\u001b[1;32m      3\u001b[0m \u001b[0mprint\u001b[0m\u001b[0;34m(\u001b[0m\u001b[0;34m'nome tem '\u001b[0m\u001b[0;34m,\u001b[0m \u001b[0mcomprimento\u001b[0m\u001b[0;34m,\u001b[0m \u001b[0;34m'caracteres'\u001b[0m\u001b[0;34m)\u001b[0m\u001b[0;34m\u001b[0m\u001b[0;34m\u001b[0m\u001b[0m\n\u001b[1;32m      4\u001b[0m \u001b[0;34m\u001b[0m\u001b[0m\n\u001b[1;32m      5\u001b[0m \u001b[0mlista\u001b[0m \u001b[0;34m=\u001b[0m \u001b[0;34m[\u001b[0m\u001b[0;36m1\u001b[0m\u001b[0;34m,\u001b[0m \u001b[0;36m2\u001b[0m\u001b[0;34m,\u001b[0m \u001b[0;36m4\u001b[0m\u001b[0;34m,\u001b[0m \u001b[0;36m8\u001b[0m\u001b[0;34m,\u001b[0m \u001b[0;36m3\u001b[0m\u001b[0;34m,\u001b[0m \u001b[0;36m0\u001b[0m\u001b[0;34m,\u001b[0m \u001b[0;36m1\u001b[0m\u001b[0;34m]\u001b[0m\u001b[0;34m\u001b[0m\u001b[0;34m\u001b[0m\u001b[0m\n",
            "\u001b[0;32m/usr/local/lib/python3.10/dist-packages/ipykernel/kernelbase.py\u001b[0m in \u001b[0;36mraw_input\u001b[0;34m(self, prompt)\u001b[0m\n\u001b[1;32m    849\u001b[0m                 \u001b[0;34m\"raw_input was called, but this frontend does not support input requests.\"\u001b[0m\u001b[0;34m\u001b[0m\u001b[0;34m\u001b[0m\u001b[0m\n\u001b[1;32m    850\u001b[0m             )\n\u001b[0;32m--> 851\u001b[0;31m         return self._input_request(str(prompt),\n\u001b[0m\u001b[1;32m    852\u001b[0m             \u001b[0mself\u001b[0m\u001b[0;34m.\u001b[0m\u001b[0m_parent_ident\u001b[0m\u001b[0;34m,\u001b[0m\u001b[0;34m\u001b[0m\u001b[0;34m\u001b[0m\u001b[0m\n\u001b[1;32m    853\u001b[0m             \u001b[0mself\u001b[0m\u001b[0;34m.\u001b[0m\u001b[0m_parent_header\u001b[0m\u001b[0;34m,\u001b[0m\u001b[0;34m\u001b[0m\u001b[0;34m\u001b[0m\u001b[0m\n",
            "\u001b[0;32m/usr/local/lib/python3.10/dist-packages/ipykernel/kernelbase.py\u001b[0m in \u001b[0;36m_input_request\u001b[0;34m(self, prompt, ident, parent, password)\u001b[0m\n\u001b[1;32m    893\u001b[0m             \u001b[0;32mexcept\u001b[0m \u001b[0mKeyboardInterrupt\u001b[0m\u001b[0;34m:\u001b[0m\u001b[0;34m\u001b[0m\u001b[0;34m\u001b[0m\u001b[0m\n\u001b[1;32m    894\u001b[0m                 \u001b[0;31m# re-raise KeyboardInterrupt, to truncate traceback\u001b[0m\u001b[0;34m\u001b[0m\u001b[0;34m\u001b[0m\u001b[0m\n\u001b[0;32m--> 895\u001b[0;31m                 \u001b[0;32mraise\u001b[0m \u001b[0mKeyboardInterrupt\u001b[0m\u001b[0;34m(\u001b[0m\u001b[0;34m\"Interrupted by user\"\u001b[0m\u001b[0;34m)\u001b[0m \u001b[0;32mfrom\u001b[0m \u001b[0;32mNone\u001b[0m\u001b[0;34m\u001b[0m\u001b[0;34m\u001b[0m\u001b[0m\n\u001b[0m\u001b[1;32m    896\u001b[0m             \u001b[0;32mexcept\u001b[0m \u001b[0mException\u001b[0m \u001b[0;32mas\u001b[0m \u001b[0me\u001b[0m\u001b[0;34m:\u001b[0m\u001b[0;34m\u001b[0m\u001b[0;34m\u001b[0m\u001b[0m\n\u001b[1;32m    897\u001b[0m                 \u001b[0mself\u001b[0m\u001b[0;34m.\u001b[0m\u001b[0mlog\u001b[0m\u001b[0;34m.\u001b[0m\u001b[0mwarning\u001b[0m\u001b[0;34m(\u001b[0m\u001b[0;34m\"Invalid Message:\"\u001b[0m\u001b[0;34m,\u001b[0m \u001b[0mexc_info\u001b[0m\u001b[0;34m=\u001b[0m\u001b[0;32mTrue\u001b[0m\u001b[0;34m)\u001b[0m\u001b[0;34m\u001b[0m\u001b[0;34m\u001b[0m\u001b[0m\n",
            "\u001b[0;31mKeyboardInterrupt\u001b[0m: Interrupted by user"
          ]
        }
      ]
    },
    {
      "cell_type": "code",
      "source": [
        "lista_alturas_alunas_MP1T18 = [1.55, 1.61, 1.78, 1.55, 1.79, 1.46, 1.41, 1.81]\n",
        "tamanho = len(lista_alturas_alunas_MP1T18)\n",
        "indice = 0\n",
        "while indice < tamanho:\n",
        "  print(indice, '<', tamanho)\n",
        "  print(indice, ':', lista_alturas_alunas_MP1T18[indice])\n",
        "  indice = indice + 1"
      ],
      "metadata": {
        "colab": {
          "base_uri": "https://localhost:8080/"
        },
        "id": "kBlOkEmJaHjD",
        "outputId": "377e3522-aa0d-446a-9e39-25a2b7086aef"
      },
      "execution_count": null,
      "outputs": [
        {
          "output_type": "stream",
          "name": "stdout",
          "text": [
            "0 < 8\n",
            "0 : 1.55\n",
            "1 < 8\n",
            "1 : 1.61\n",
            "2 < 8\n",
            "2 : 1.78\n",
            "3 < 8\n",
            "3 : 1.55\n",
            "4 < 8\n",
            "4 : 1.79\n",
            "5 < 8\n",
            "5 : 1.46\n",
            "6 < 8\n",
            "6 : 1.41\n",
            "7 < 8\n",
            "7 : 1.81\n"
          ]
        }
      ]
    },
    {
      "cell_type": "code",
      "source": [
        "lista_alturas_alunas_MP1T18 = [1.55, 1.61, 1.78, 1.55, 1.79, 1.46, 1.41, 1.81]\n",
        "tamanho = len(lista_alturas_alunas_MP1T18)\n",
        "indice = 0\n",
        "contador = 1\n",
        "while contador <= tamanho:\n",
        "  print(indice, '<', tamanho)\n",
        "  print(indice, ':', lista_alturas_alunas_MP1T18[indice])\n",
        "  indice = indice + 1\n",
        "  contador = contador + 1"
      ],
      "metadata": {
        "colab": {
          "base_uri": "https://localhost:8080/"
        },
        "id": "yZr-nJFPqT2a",
        "outputId": "a6e1b9c5-a5e7-4360-c4d4-fe59d4f46634"
      },
      "execution_count": null,
      "outputs": [
        {
          "output_type": "stream",
          "name": "stdout",
          "text": [
            "0 < 8\n",
            "0 : 1.55\n",
            "1 < 8\n",
            "1 : 1.61\n",
            "2 < 8\n",
            "2 : 1.78\n",
            "3 < 8\n",
            "3 : 1.55\n",
            "4 < 8\n",
            "4 : 1.79\n",
            "5 < 8\n",
            "5 : 1.46\n",
            "6 < 8\n",
            "6 : 1.41\n",
            "7 < 8\n",
            "7 : 1.81\n"
          ]
        }
      ]
    },
    {
      "cell_type": "code",
      "source": [
        "gatas = ['Tri', 'Bel', 'Groot']\n",
        "for item in gatas:\n",
        "  print(item)"
      ],
      "metadata": {
        "colab": {
          "base_uri": "https://localhost:8080/"
        },
        "id": "eoR5BZh8rBrH",
        "outputId": "531debb3-52c5-41af-a8ee-70333a66877c"
      },
      "execution_count": null,
      "outputs": [
        {
          "output_type": "stream",
          "name": "stdout",
          "text": [
            "Tri\n",
            "Bel\n",
            "Groot\n"
          ]
        }
      ]
    },
    {
      "cell_type": "code",
      "source": [
        "gatas = ['Tri', 'Bel', 'Groot', 'Ziggy', 'Blue', 'Cléo']\n",
        "for gata in gatas:\n",
        "  print(gata)"
      ],
      "metadata": {
        "colab": {
          "base_uri": "https://localhost:8080/"
        },
        "id": "i7-aXb3GsFY4",
        "outputId": "92b15984-4dbf-4331-e0a9-240488573932"
      },
      "execution_count": null,
      "outputs": [
        {
          "output_type": "stream",
          "name": "stdout",
          "text": [
            "Tri\n",
            "Bel\n",
            "Groot\n",
            "Ziggy\n",
            "Blue\n",
            "Cléo\n"
          ]
        }
      ]
    },
    {
      "cell_type": "code",
      "source": [
        "frutas = ['banana', 'abacaxi', 'uva', 'caqui']\n",
        "for fruta in frutas:\n",
        "  print(fruta)"
      ],
      "metadata": {
        "colab": {
          "base_uri": "https://localhost:8080/"
        },
        "id": "mb9pIRx9sXbP",
        "outputId": "9f816bcb-f270-4c3c-a03e-5ac0f2517199"
      },
      "execution_count": null,
      "outputs": [
        {
          "output_type": "stream",
          "name": "stdout",
          "text": [
            "banana\n",
            "abacaxi\n",
            "uva\n",
            "caqui\n"
          ]
        }
      ]
    },
    {
      "cell_type": "code",
      "source": [
        "linha = input()\n",
        "for caractere in linha:\n",
        "  print(caractere)"
      ],
      "metadata": {
        "colab": {
          "base_uri": "https://localhost:8080/"
        },
        "id": "SmsJ6PRls28_",
        "outputId": "9292cfd3-eefa-496e-f630-cdb945e7187b"
      },
      "execution_count": null,
      "outputs": [
        {
          "output_type": "stream",
          "name": "stdout",
          "text": [
            "Helen Picoli\n",
            "H\n",
            "e\n",
            "l\n",
            "e\n",
            "n\n",
            " \n",
            "P\n",
            "i\n",
            "c\n",
            "o\n",
            "l\n",
            "i\n"
          ]
        }
      ]
    },
    {
      "cell_type": "code",
      "source": [
        "gatas = ['Tri', 'Bel', 'Groot', 'Ziggy', 'Blue', 'Cléo']\n",
        "contador = 0\n",
        "for gata in gatas:\n",
        "  contador = contador + 1\n",
        "print(contador)"
      ],
      "metadata": {
        "colab": {
          "base_uri": "https://localhost:8080/"
        },
        "id": "qaRW5GEhtyfY",
        "outputId": "5a45deed-b80c-4851-908d-8ddabc4dd125"
      },
      "execution_count": null,
      "outputs": [
        {
          "output_type": "stream",
          "name": "stdout",
          "text": [
            "6\n"
          ]
        }
      ]
    },
    {
      "cell_type": "code",
      "source": [
        "#função len()\n",
        "linha = input()\n",
        "contador = 0\n",
        "for letra in linha:\n",
        "  contador = contador + 1\n",
        "print(contador)"
      ],
      "metadata": {
        "colab": {
          "base_uri": "https://localhost:8080/"
        },
        "id": "CGRBSKfvtdme",
        "outputId": "d12517ee-dbe4-4f38-daf1-22491fcff32d"
      },
      "execution_count": null,
      "outputs": [
        {
          "output_type": "stream",
          "name": "stdout",
          "text": [
            "Helen Picoli\n",
            "12\n"
          ]
        }
      ]
    },
    {
      "cell_type": "code",
      "source": [
        "#função len()\n",
        "linha = input()\n",
        "contador = 0\n",
        "for letra in linha:\n",
        "  contador = contador + 1\n",
        "print(contador)"
      ],
      "metadata": {
        "id": "o4UasIFMvh_h"
      },
      "execution_count": null,
      "outputs": []
    },
    {
      "cell_type": "code",
      "source": [
        "n = int(input())\n",
        "for item in range(n):\n",
        "  print(item)"
      ],
      "metadata": {
        "colab": {
          "base_uri": "https://localhost:8080/"
        },
        "id": "Q75gnndXwI94",
        "outputId": "5e728701-fe25-4123-8bed-19eb37140dde"
      },
      "execution_count": null,
      "outputs": [
        {
          "output_type": "stream",
          "name": "stdout",
          "text": [
            "5\n",
            "0\n",
            "1\n",
            "2\n",
            "3\n",
            "4\n"
          ]
        }
      ]
    },
    {
      "cell_type": "code",
      "source": [
        "n = int(input())\n",
        "for item in range(1,n):\n",
        "  print(item)"
      ],
      "metadata": {
        "colab": {
          "base_uri": "https://localhost:8080/"
        },
        "id": "n6bf1TQMxRQl",
        "outputId": "adfc3dba-f9dc-4d91-fb3e-7ba6767dc409"
      },
      "execution_count": null,
      "outputs": [
        {
          "output_type": "stream",
          "name": "stdout",
          "text": [
            "9\n",
            "1\n",
            "2\n",
            "3\n",
            "4\n",
            "5\n",
            "6\n",
            "7\n",
            "8\n"
          ]
        }
      ]
    },
    {
      "cell_type": "code",
      "source": [
        "n = int(input())\n",
        "for item in range(1,n,2):\n",
        "  print(item)"
      ],
      "metadata": {
        "colab": {
          "base_uri": "https://localhost:8080/"
        },
        "id": "QEdFLXsrxhH9",
        "outputId": "e8e2f445-f1cc-4aa2-f50f-6f71ce191250"
      },
      "execution_count": null,
      "outputs": [
        {
          "output_type": "stream",
          "name": "stdout",
          "text": [
            "21\n",
            "1\n",
            "3\n",
            "5\n",
            "7\n",
            "9\n",
            "11\n",
            "13\n",
            "15\n",
            "17\n",
            "19\n"
          ]
        }
      ]
    },
    {
      "cell_type": "code",
      "source": [
        "gatas = ['Tri', 'Bel', 'Groot']\n",
        "gata = input()\n",
        "gatas.append(gata)\n",
        "print(gatas)"
      ],
      "metadata": {
        "colab": {
          "base_uri": "https://localhost:8080/"
        },
        "id": "L1bL7AyTxz8V",
        "outputId": "426e6a96-883b-446d-fded-c3d3006f8a40"
      },
      "execution_count": null,
      "outputs": [
        {
          "output_type": "stream",
          "name": "stdout",
          "text": [
            "Sasha\n",
            "['Tri', 'Bel', 'Groot', 'Sasha']\n"
          ]
        }
      ]
    },
    {
      "cell_type": "code",
      "source": [
        "gatas = []\n",
        "gata = input()\n",
        "gatas.append(gata)\n",
        "print(gatas)"
      ],
      "metadata": {
        "colab": {
          "base_uri": "https://localhost:8080/"
        },
        "id": "ea6Zqw66yh97",
        "outputId": "9abcb0c8-dfbd-4bb4-f398-d7b6fcf4e2f0"
      },
      "execution_count": null,
      "outputs": [
        {
          "output_type": "stream",
          "name": "stdout",
          "text": [
            "Batman\n",
            "['Batman']\n"
          ]
        }
      ]
    },
    {
      "cell_type": "code",
      "source": [
        "n = int(input())\n",
        "gates = []\n",
        "for item in range(n):\n",
        "  gate = input()\n",
        "  gates.append(gate)\n",
        "print(gates)"
      ],
      "metadata": {
        "colab": {
          "base_uri": "https://localhost:8080/"
        },
        "id": "sUmCzdAYy1nq",
        "outputId": "9166d1ab-ffa9-4548-d1ee-d2800b1f8654"
      },
      "execution_count": null,
      "outputs": [
        {
          "output_type": "stream",
          "name": "stdout",
          "text": [
            "8\n",
            "luna\n",
            "cipo\n",
            "beto\n",
            "melog\n",
            "suzie\n",
            "tardelli\n",
            "marta\n",
            "theo\n",
            "['luna', 'cipo', 'beto', 'melog', 'suzie', 'tardelli', 'marta', 'theo']\n"
          ]
        }
      ]
    },
    {
      "cell_type": "code",
      "source": [
        "n = int(input())\n",
        "felinos = []\n",
        "for contador in range(n):\n",
        "  nome = input()\n",
        "  felinos.append(nome)\n",
        "print(felinos)"
      ],
      "metadata": {
        "colab": {
          "base_uri": "https://localhost:8080/"
        },
        "id": "DYO1Tuvxz29y",
        "outputId": "fcd99846-cd95-4847-ab1d-1a00ec55d460"
      },
      "execution_count": null,
      "outputs": [
        {
          "output_type": "stream",
          "name": "stdout",
          "text": [
            "4\n",
            "ana\n",
            "bia\n",
            "duda\n",
            "carol\n",
            "['ana', 'bia', 'duda', 'carol']\n"
          ]
        }
      ]
    },
    {
      "cell_type": "code",
      "source": [
        "lista = []\n",
        "n = int(input())\n",
        "for item in range(n):\n",
        "  nome = input()\n",
        "  lista.insert(0,nome)\n",
        "print(lista)"
      ],
      "metadata": {
        "colab": {
          "base_uri": "https://localhost:8080/"
        },
        "id": "8BIpg7Fu0L6p",
        "outputId": "7084fcf3-8f32-4e33-bb12-cd31a8541841"
      },
      "execution_count": null,
      "outputs": [
        {
          "output_type": "stream",
          "name": "stdout",
          "text": [
            "3\n",
            "Isabella\n",
            "Ana Luiza\n",
            "Renata\n",
            "['Renata', 'Ana Luiza', 'Isabella']\n"
          ]
        }
      ]
    },
    {
      "cell_type": "code",
      "source": [
        "lista = []\n",
        "n = int(input())\n",
        "for item in range(n):\n",
        "  nome = input()\n",
        "  lista.insert(0,nome)\n",
        "print(lista)\n",
        "nome = lista.pop()   # retira a ultima\n",
        "print(lista)\n",
        "nome = lista.pop(0)  # retita a primeira\n",
        "print(lista)"
      ],
      "metadata": {
        "colab": {
          "base_uri": "https://localhost:8080/"
        },
        "id": "objxEi9K07Hp",
        "outputId": "edb619ea-9821-4eaf-81d6-ad886045173c"
      },
      "execution_count": null,
      "outputs": [
        {
          "output_type": "stream",
          "name": "stdout",
          "text": [
            "3\n",
            "Ana\n",
            "Duda\n",
            "Helen\n",
            "['Helen', 'Duda', 'Ana']\n",
            "['Helen', 'Duda']\n",
            "['Duda']\n"
          ]
        }
      ]
    }
  ]
}