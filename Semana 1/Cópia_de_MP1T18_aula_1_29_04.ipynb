{
  "nbformat": 4,
  "nbformat_minor": 0,
  "metadata": {
    "colab": {
      "provenance": [],
      "include_colab_link": true
    },
    "kernelspec": {
      "name": "python3",
      "display_name": "Python 3"
    },
    "language_info": {
      "name": "python"
    }
  },
  "cells": [
    {
      "cell_type": "markdown",
      "metadata": {
        "id": "view-in-github",
        "colab_type": "text"
      },
      "source": [
        "<a href=\"https://colab.research.google.com/github/JuMayumiC/Meninas-Programadoras/blob/main/C%C3%B3pia_de_MP1T18_aula_1_29_04.ipynb\" target=\"_parent\"><img src=\"https://colab.research.google.com/assets/colab-badge.svg\" alt=\"Open In Colab\"/></a>"
      ]
    },
    {
      "cell_type": "markdown",
      "source": [
        "#**Python**\n",
        "---\n",
        "Nesta aula apresentamos alguns conceitos básicos que permitem que criemos muitos programas em Python\n",
        "- algumas funções pré-definidas de Python: print(), input(), int(), float(), str()\n",
        "- sequências de caracteres ou strings \n",
        "- variáveis\n",
        "- operações de soma e multiplicação entre strings\n",
        "- operações de soma e multiplicação entre inteiros e \"reais\"\n",
        "- comentários\n"
      ],
      "metadata": {
        "id": "JEnv_D2qo6g4"
      }
    },
    {
      "cell_type": "markdown",
      "source": [
        "##**Lembrando funções matemáticas**\n",
        "- f(x)  retorna o resultado esperado de f() para x\n",
        "- g(x)  retorna o resultado esperado de g() para x\n",
        "- f(g(x)) retorna o resultado esperado f() para o valor retornado de g() aplicado a x\n",
        "\n",
        "> Se \n",
        "- f(x) é a função que, dado um valor x, retorna o quadrado de x\n",
        "- g(x) é a função que, dado um valor x, retorna x+1\n",
        "\n",
        "> Quando x = 3\n",
        "- f(x) = 9\n",
        "- g(x) = 4\n",
        "- f(g(x)) = 16"
      ],
      "metadata": {
        "id": "ltQ2YoKXvX_r"
      }
    },
    {
      "cell_type": "markdown",
      "source": [
        "##**Funções em linguagens de programação**\n",
        "\n",
        "Em linguagens de programação, **funções** são blocos de código que realizam uma tarefa específica e podem ser chamadas em diferentes partes do programa\n",
        "\n",
        "> **print()** e **input()** são exemplos de funções *embutidas* em Python, o que significa que elas estão pré-definidas na linguagem e prontas para serem utilizada em nossos programas\n",
        "- outros exemplos de funções embutidas: **int()**, **float()** e **str()**"
      ],
      "metadata": {
        "id": "uEna8yeGC6-A"
      }
    },
    {
      "cell_type": "markdown",
      "source": [
        "##**print()** #1\n",
        "- a função `print()` em Python é utilizada para exibir informações na tela do computador. \n",
        "- o *argumento* que colocamos entre os parênteses quando chamamos a função corresponde ao valor que deve exibido na tela "
      ],
      "metadata": {
        "id": "CCnZnYpiBjlw"
      }
    },
    {
      "cell_type": "markdown",
      "source": [
        "> Programa que dá boas vindas\n",
        "- chama a função `print()`passando como argumento a sequência de caracteres 'bem-vindas!'\n"
      ],
      "metadata": {
        "id": "47_gPU9vH56b"
      }
    },
    {
      "cell_type": "code",
      "source": [
        "print('bem-vindas!')"
      ],
      "metadata": {
        "colab": {
          "base_uri": "https://localhost:8080/"
        },
        "id": "ob4GgNLrj-xi",
        "outputId": "62a083ae-e530-443d-c390-c009f2260e4f"
      },
      "execution_count": null,
      "outputs": [
        {
          "output_type": "stream",
          "name": "stdout",
          "text": [
            "bem-vindas!\n"
          ]
        }
      ]
    },
    {
      "cell_type": "markdown",
      "source": [
        "##**String ou sequência de caracteres**\n",
        "\n",
        "Dentro de um programa Python, um para de aspas simples (' ') ou de aspas duplas (\" \") são utilizadas para indicar que um texto é uma string, ou seja, uma sequência de caracteres. \n",
        "- 'bem-vinda'\n",
        "- 'Olá'\n",
        "- 'Maria da Graça'\n",
        "\n",
        "Por que precisamos das aspas?\n",
        "> Precisamos utilizar aspas para indicar para Python que o que colocamos entre aspas é um texto e não uma função Python, ou comando Python ou uma variável de nosso programa... "
      ],
      "metadata": {
        "id": "sTMin19hJUji"
      }
    },
    {
      "cell_type": "markdown",
      "source": [
        "##**input()**\n",
        "## **variáveis**\n",
        "- a função `input()` é utilizada para coletar dados de entrada do usuário, ou seja\n",
        "- ela espera que o usuário digite uma sequência de caracteres seguida da tecla **enter** no teclado\n",
        "- a função armazena o conteúdo digitado pelo usuário na memória do computador e o local exato onde o conteúdo foi armazenado é associado a uma **variável** no programa\n",
        "- essa **variável** pode ser utilizada em outras partes do programa (por exemplo para processamento ou exibição na tela)"
      ],
      "metadata": {
        "id": "I2Iv8Y4MpFfs"
      }
    },
    {
      "cell_type": "markdown",
      "source": [
        "#**Papagaio**\n",
        "\n",
        "Nosso programa papagaio que está no *beecrowd*...\n",
        "- **mensagem** é a variável que tem a informação de em qual posição de memória vai ser guardada a string lida\n",
        "- note que o nome da variável é escrito sem aspas!"
      ],
      "metadata": {
        "id": "Pft9X0C6KDEA"
      }
    },
    {
      "cell_type": "code",
      "source": [
        "mensagem = input()\n",
        "print(mensagem)"
      ],
      "metadata": {
        "colab": {
          "base_uri": "https://localhost:8080/"
        },
        "id": "zXRuxfnykImr",
        "outputId": "f57a66bc-0c6d-4a5a-b44e-ee6cc34d2d82"
      },
      "execution_count": null,
      "outputs": [
        {
          "output_type": "stream",
          "name": "stdout",
          "text": [
            "vish\n",
            "vish\n"
          ]
        }
      ]
    },
    {
      "cell_type": "markdown",
      "source": [
        ">Programa papagaio que repeteco duas vezes..."
      ],
      "metadata": {
        "id": "-fzFvX7ypMOW"
      }
    },
    {
      "cell_type": "code",
      "source": [
        "mensagem = input()\n",
        "print(mensagem, mensagem)"
      ],
      "metadata": {
        "colab": {
          "base_uri": "https://localhost:8080/"
        },
        "id": "nQRbxiSlldIP",
        "outputId": "01c918d5-e9c2-4289-e303-fb91bcc70e45"
      },
      "execution_count": null,
      "outputs": [
        {
          "output_type": "stream",
          "name": "stdout",
          "text": [
            "vixemaria\n",
            "vixemaria vixemaria\n"
          ]
        }
      ]
    },
    {
      "cell_type": "markdown",
      "source": [
        "##**print()** #2\n",
        "\n",
        "A função `print()` \n",
        "- pode receber um ou mais argumentos\n",
        "- concatena os argumentos e os exibe na tela, separados por espaço\n",
        "\n",
        "> Programa papagaio repeteco 3 vezes..."
      ],
      "metadata": {
        "id": "ieSy7BhQwKMo"
      }
    },
    {
      "cell_type": "code",
      "source": [
        "mensagem = input()\n",
        "print(mensagem, mensagem, mensagem)"
      ],
      "metadata": {
        "colab": {
          "base_uri": "https://localhost:8080/"
        },
        "id": "x_T5YgS5llvg",
        "outputId": "3144860e-a29b-4cc1-b8ce-75c6fdffb629"
      },
      "execution_count": null,
      "outputs": [
        {
          "output_type": "stream",
          "name": "stdout",
          "text": [
            "legal\n",
            "legal legal legal\n"
          ]
        }
      ]
    },
    {
      "cell_type": "markdown",
      "source": [
        "> Programa que dá boas vindas de modo personalizado #1\n",
        "- passando para a função print() dois argumentos separados por vírgula\n",
        "- a print() insere, por conta própria, um espaço separando os dois argumentos"
      ],
      "metadata": {
        "id": "VIs0JzE5pVf3"
      }
    },
    {
      "cell_type": "code",
      "source": [
        "nome = input()\n",
        "mensagem = 'bem-vinda'\n",
        "print(mensagem, nome)"
      ],
      "metadata": {
        "colab": {
          "base_uri": "https://localhost:8080/"
        },
        "id": "uioj1c_PmV4a",
        "outputId": "15630ab1-bc17-409a-9670-0f71257efb40"
      },
      "execution_count": null,
      "outputs": [
        {
          "output_type": "stream",
          "name": "stdout",
          "text": [
            "Joyce\n",
            "bem-vinda Joyce\n"
          ]
        }
      ]
    },
    {
      "cell_type": "markdown",
      "source": [
        "##**Somar sequencias de caracteres com +**\n",
        "\n",
        "> Programa que dá boas vindas de modo personalizado #2\n",
        "- linha 3: operador **+** concatena a sequência entre referenciada por mensagem com a sequência referenciada por nome\n",
        "- a gente tem que colocar o espaço de separação desse jeito"
      ],
      "metadata": {
        "id": "WEb4TNnHpxQ4"
      }
    },
    {
      "cell_type": "code",
      "source": [
        "nome = input()\n",
        "mensagem = 'bem-vinda '\n",
        "saida = mensagem + nome\n",
        "print(saida)"
      ],
      "metadata": {
        "colab": {
          "base_uri": "https://localhost:8080/"
        },
        "id": "ZvUP__Kzm_IY",
        "outputId": "d37c83e7-c01f-4d88-cb25-0783228863c3"
      },
      "execution_count": null,
      "outputs": [
        {
          "output_type": "stream",
          "name": "stdout",
          "text": [
            "Thayssa\n",
            "bem-vinda Thayssa\n"
          ]
        }
      ]
    },
    {
      "cell_type": "markdown",
      "source": [
        "> Programa que dá boas vindas de modo personalizado #3\n",
        "- linha 3: operador **+** concatena a sequência entre referenciada por mensagem com a sequência referenciada por nome\n",
        "- a gente pode colocar o espaço de separação desse outro jeito"
      ],
      "metadata": {
        "id": "J8930NqiqP-N"
      }
    },
    {
      "cell_type": "code",
      "source": [
        "nome = input()\n",
        "mensagem = 'bem-vinda'\n",
        "saida = mensagem + ' ' + nome\n",
        "print(saida)"
      ],
      "metadata": {
        "colab": {
          "base_uri": "https://localhost:8080/"
        },
        "id": "9SbHM8MbnTC_",
        "outputId": "5ec9d86d-d63e-4cc9-ca13-f6701079e2b3"
      },
      "execution_count": null,
      "outputs": [
        {
          "output_type": "stream",
          "name": "stdout",
          "text": [
            "Grazielle\n",
            "bem-vinda Grazielle\n"
          ]
        }
      ]
    },
    {
      "cell_type": "markdown",
      "source": [
        "##**Multiplicar sequências de caracteres com \\***\n",
        "\n",
        "> Programa que dá boas vindas de modo personalizado #3\n",
        "- linha 2: operador **\\*** concatena o número de vezes indicado"
      ],
      "metadata": {
        "id": "QNZPZlxH3Yxe"
      }
    },
    {
      "cell_type": "code",
      "source": [
        "mensagem = 'bem-vinda '\n",
        "mensagem  = mensagem * 20\n",
        "print(mensagem)"
      ],
      "metadata": {
        "colab": {
          "base_uri": "https://localhost:8080/"
        },
        "id": "Oq2oNPUVnh52",
        "outputId": "89f2c745-0bd2-40a6-894c-929b5b8207c3"
      },
      "execution_count": null,
      "outputs": [
        {
          "output_type": "stream",
          "name": "stdout",
          "text": [
            "bem-vinda bem-vinda bem-vinda bem-vinda bem-vinda bem-vinda bem-vinda bem-vinda bem-vinda bem-vinda bem-vinda bem-vinda bem-vinda bem-vinda bem-vinda bem-vinda bem-vinda bem-vinda bem-vinda bem-vinda \n"
          ]
        }
      ]
    },
    {
      "cell_type": "markdown",
      "source": [
        "## **int() float() str()**\n",
        "\n",
        "A função **input()** sempre devolve uma sequência de caracteres\n",
        "\n",
        "Se quisermos que Python considere o valor lido como um valor inteiro ou real, temos que usar as funções especializadas para transformar uma sequência de caracteres nos valores correspondentes\n",
        "- **int()** transforma de sequência de caracteres para inteiro\n",
        "- **float()** transforma de sequência de caracteres para \"real\"\n",
        "\n",
        "Eu escrevo \"real\" entre aspas porque nem sempre Python consegue a aproximação que esperamos para um real \"de verdade\"\n",
        "\n",
        "> Programa exemplo\n",
        "- na linha 1, a função **str()** transforma o valor recebido para sequência de caracteres\n",
        "- portanto, nesse caso ela *efetivamente não faz nada* porque o valor recebido de input() já é uma sequência de caracteres\n",
        "- e por isso eu não tinha usado nos exemplos anteriores...\n",
        "- e por isso não precisamos utilizar quando queremos ler, de fato, uma sequência de caracteres\n"
      ],
      "metadata": {
        "id": "SI4UxNWxqXR8"
      }
    },
    {
      "cell_type": "code",
      "source": [
        "# lembra de f(g(x))?\n",
        "\n",
        "linha = str(input())    # input() lê uma string e str() a transforma em string\n",
        "dia = int(input())      # input() lê uma string e int() a transforma em um valor inteiro\n",
        "pi = float(input())     # input() lê uma string e float() a transforma em em um valor \"real\"\n",
        "\n",
        "print(linha)    # imprime a primeira linha lida\n",
        "print(dia + 1)  # imprime o valor de dia incrementado de uma unidade usando soma entre inteiros\n",
        "print(pi - 2)   # imprime o valor de pi subtraído de duas unidades usando subtração entre inteiros"
      ],
      "metadata": {
        "colab": {
          "base_uri": "https://localhost:8080/"
        },
        "id": "ZjvVccGHn03N",
        "outputId": "a0964e4b-e447-4c5c-9a5c-1cda1720c73b"
      },
      "execution_count": null,
      "outputs": [
        {
          "output_type": "stream",
          "name": "stdout",
          "text": [
            "abacaxi\n",
            "29\n",
            "3.141516\n",
            "abacaxi\n",
            "30\n",
            "1.1415160000000002\n"
          ]
        }
      ]
    },
    {
      "cell_type": "markdown",
      "source": [
        "##**Comentários em Python**\n",
        "\n",
        "Quando utilizamos o caractere # em uma linha de nosso programa, Python ignora todos os caracteres seguinte da linha \n",
        "> como ilustrado no programa acima"
      ],
      "metadata": {
        "id": "f19N4ULuM4h_"
      }
    },
    {
      "cell_type": "markdown",
      "source": [
        "## **str()**\n",
        "\n",
        "A função str() é necessária quando precisamos transformar o valor recebido para sequência de caracteres\n",
        "\n",
        "> o primeiro programa abaixo resulta em erro por tentar somar sequências de caracteres com inteiros\n",
        "\n",
        "> o segundo programa corrige o problema convertendo o inteiro para sequência de caracteres antes de somar com outras sequências"
      ],
      "metadata": {
        "id": "Yy32K6h0sXn-"
      }
    },
    {
      "cell_type": "code",
      "source": [
        "# Programa com erro por usa \"+\" com objetos de tipos diretentes\n",
        "# sequencias de caracteres: 'Eu vou fazer ' e ' anos.'\n",
        "# idade: inteiro\n",
        "\n",
        "idade = 61\n",
        "mensagem = 'Eu tenho ' + idade + ' anos.'\n",
        "print(mensagem)"
      ],
      "metadata": {
        "id": "6jm44churiCz"
      },
      "execution_count": null,
      "outputs": []
    },
    {
      "cell_type": "code",
      "source": [
        "# Esta versão utiliza str() para transformar o inteiro em sequência de caracteres antes de utilizar o operador \"+\"\n",
        "\n",
        "idade = 61\n",
        "mensagem = 'Eu tenho ' + str(idade) + ' anos.'\n",
        "print(mensagem)"
      ],
      "metadata": {
        "id": "m2Aye2zwsRYq"
      },
      "execution_count": null,
      "outputs": []
    },
    {
      "cell_type": "markdown",
      "source": [
        "> Este outro programa também resulta em erro por utilizar \"+\" com objetos de tipos diferentes\n"
      ],
      "metadata": {
        "id": "NSLij5YCtyb9"
      }
    },
    {
      "cell_type": "code",
      "source": [
        "nome = input()\n",
        "idade = input()\n",
        "resposta = idade + 1\n",
        "print(resposta)"
      ],
      "metadata": {
        "id": "sCtci4YvpOlF"
      },
      "execution_count": null,
      "outputs": []
    },
    {
      "cell_type": "markdown",
      "source": [
        "##**int()**\n",
        "\n",
        ">programa no qual utilizamos a função int() para transformar a sequência de caracteres lida e referenciada por **idade** em um objeto inteiro antes de realizamos a soma de dois valores inteiros\n",
        "\n",
        ">colocamos o valor inteiro e sequências de caracteres com argumentos da função print()\n",
        "- nesse caso, não há erro porque a função print() converte automaticamente cada argumento para uma sequência de caracteres antes de imprimi-los"
      ],
      "metadata": {
        "id": "Q1MvThNmt_Ev"
      }
    },
    {
      "cell_type": "code",
      "source": [
        "nome = input()   # ler sequencia de caracteres do teclado\n",
        "idade = input()   # ler outra sequencia de caracteres do teclado\n",
        "idade = int(idade)  # transforma sequencia de caracteres em inteiro\n",
        "resposta = idade + 1  # soma dois inteiros\n",
        "print(nome, 'vai fazer', resposta, 'anos')  # imprime tudo em sequencia usando espaço como separador\n"
      ],
      "metadata": {
        "colab": {
          "base_uri": "https://localhost:8080/"
        },
        "id": "h8OX_YAkq_TZ",
        "outputId": "5f27fcca-4a35-4ef7-dfc0-6b82ecf7c27f"
      },
      "execution_count": null,
      "outputs": [
        {
          "output_type": "stream",
          "name": "stdout",
          "text": [
            "Maria\n",
            "61\n",
            "Maria vai fazer 62 anos\n"
          ]
        }
      ]
    },
    {
      "cell_type": "markdown",
      "source": [
        "##**print()** #3\n",
        "- é utilizada para exibir informações na tela do computador. \n",
        "- recebe um ou mais argumentos\n",
        "- os argumentos podem ser de tipos diferentes\n",
        "- concatena os argumentos e os exibe na tela, separados por espaço (por padrão)\n",
        "\n",
        "##**Nomes de variáveis**\n",
        "- os nomes de variáveis ​​devem começar com uma letra ou sublinhado  e só podem conter letras, números e sublinhados\n",
        "- os nomes de variáveis ​​são sensíveis a maiúsculas e minúsculas\n",
        "- palavras reservadas de Python, que aprenderemos nas próximas aulas, que não podem ser usadas como nomes de variáveis\n",
        "- devemos colocar em variáveis nomes significativos para nossos programas para torná-los mais legíveis e fáceis de entender para nós mesmos e para outros programadores que possam trabalhar em nosso código\n",
        "- nomes de variáveis bem escolhidos fornecem informações úteis sobre o propósito da variável e como ela é usada no programa, o que ajuda a tornar o código mais fácil de manter, alterar e depurar no futuro\n",
        "- nomes de variáveis significativos podem ajudar a evitar confusões ou erros causados por variáveis com nomes genéricos ou não descritivos."
      ],
      "metadata": {
        "id": "oozyo0WgwhKd"
      }
    }
  ]
}