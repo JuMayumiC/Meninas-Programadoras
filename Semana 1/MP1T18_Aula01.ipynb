{
  "nbformat": 4,
  "nbformat_minor": 0,
  "metadata": {
    "colab": {
      "provenance": [],
      "authorship_tag": "ABX9TyNU7QI1jm7g1TT9H9+1J3aM",
      "include_colab_link": true
    },
    "kernelspec": {
      "name": "python3",
      "display_name": "Python 3"
    },
    "language_info": {
      "name": "python"
    }
  },
  "cells": [
    {
      "cell_type": "markdown",
      "metadata": {
        "id": "view-in-github",
        "colab_type": "text"
      },
      "source": [
        "<a href=\"https://colab.research.google.com/github/JuMayumiC/Meninas-Programadoras/blob/main/MP1T18_Aula01.ipynb\" target=\"_parent\"><img src=\"https://colab.research.google.com/assets/colab-badge.svg\" alt=\"Open In Colab\"/></a>"
      ]
    },
    {
      "cell_type": "markdown",
      "source": [
        "**string** = sequência de caracteres; \n",
        "\n",
        "**input** = comando de entrada;\n",
        "\n",
        "**#** = adicionar um comentário;\n",
        "\n",
        "**print** = mostrar dados na tela;\n",
        "\n",
        "**int** = número inteiro;\n",
        " \n",
        "**float** = número decimal;"
      ],
      "metadata": {
        "id": "ZE5hb8Gtsfs2"
      }
    },
    {
      "cell_type": "code",
      "source": [
        "print('bem-vindas')"
      ],
      "metadata": {
        "colab": {
          "base_uri": "https://localhost:8080/"
        },
        "id": "1uTtRhw4kWnf",
        "outputId": "5e0d7bb3-00ed-4aed-e730-8986db6c0214"
      },
      "execution_count": null,
      "outputs": [
        {
          "output_type": "stream",
          "name": "stdout",
          "text": [
            "bem-vindas\n"
          ]
        }
      ]
    },
    {
      "cell_type": "code",
      "source": [
        "mensagem = 'bem-vindas!'\n",
        "print(mensagem)"
      ],
      "metadata": {
        "colab": {
          "base_uri": "https://localhost:8080/"
        },
        "id": "hBPJDcYHiCML",
        "outputId": "01aefcf9-58e3-4a7d-837d-449dcdb50ee0"
      },
      "execution_count": null,
      "outputs": [
        {
          "output_type": "stream",
          "name": "stdout",
          "text": [
            "bem-vindas!\n"
          ]
        }
      ]
    },
    {
      "cell_type": "code",
      "source": [
        "mensagem = input()\n",
        "print(mensagem + ' ' + mensagem)"
      ],
      "metadata": {
        "colab": {
          "base_uri": "https://localhost:8080/"
        },
        "id": "BZhTaK60lRcz",
        "outputId": "3e9fe7d8-7b25-469f-af8c-4ea05e987936"
      },
      "execution_count": null,
      "outputs": [
        {
          "output_type": "stream",
          "name": "stdout",
          "text": [
            "programam\n",
            "programam programam\n"
          ]
        }
      ]
    },
    {
      "cell_type": "code",
      "source": [
        "nome = input()\n",
        "mensagem = 'bem-vinda'\n",
        "print(mensagem, nome)"
      ],
      "metadata": {
        "colab": {
          "base_uri": "https://localhost:8080/"
        },
        "outputId": "fd1d6cc4-07b6-4312-ec8f-59af9ab7f75f",
        "id": "9FUNodbonFjn"
      },
      "execution_count": null,
      "outputs": [
        {
          "output_type": "stream",
          "name": "stdout",
          "text": [
            "May\n",
            "bem-vinda May\n"
          ]
        }
      ]
    },
    {
      "cell_type": "code",
      "source": [
        "nome = input()\n",
        "mensagem = 'bem-vinda'\n",
        "saida = mensagem + ' ' + nome\n",
        "print(saida)"
      ],
      "metadata": {
        "colab": {
          "base_uri": "https://localhost:8080/"
        },
        "id": "esXJP7Q8mX6W",
        "outputId": "1dcbb0c6-1b4f-4ed0-8ab7-c1760a0f5b20"
      },
      "execution_count": null,
      "outputs": [
        {
          "output_type": "stream",
          "name": "stdout",
          "text": [
            "May\n",
            "bem-vinda May\n"
          ]
        }
      ]
    },
    {
      "cell_type": "code",
      "source": [
        "mensagem = 'Hi May!'\n",
        "mensagem = mensagem * 3\n",
        "print(mensagem)"
      ],
      "metadata": {
        "colab": {
          "base_uri": "https://localhost:8080/"
        },
        "id": "eSvhYxdJnuGR",
        "outputId": "df5891ab-3a81-43dc-c771-535344e95da8"
      },
      "execution_count": null,
      "outputs": [
        {
          "output_type": "stream",
          "name": "stdout",
          "text": [
            "Hi May!Hi May!Hi May!\n"
          ]
        }
      ]
    },
    {
      "cell_type": "code",
      "source": [
        "linha = input()\n",
        "dia = int(input())\n",
        "pi = float(input())\n",
        "\n",
        "print(linha)\n",
        "print(dia + 1)\n",
        "print(pi - 3)"
      ],
      "metadata": {
        "colab": {
          "base_uri": "https://localhost:8080/"
        },
        "id": "QDhz8iaRoBmO",
        "outputId": "f1cbb76a-1de2-467d-99e5-d137a93e5be7"
      },
      "execution_count": null,
      "outputs": [
        {
          "output_type": "stream",
          "name": "stdout",
          "text": [
            "may\n",
            "14\n",
            "3.14\n",
            "may\n",
            "15\n",
            "0.14000000000000012\n"
          ]
        }
      ]
    },
    {
      "cell_type": "code",
      "source": [
        "nome = input() # ler sequencia de caracteres do teclado \n",
        "idade = input() # ler outra sequencia de carcteres do teclado\n",
        "idade = int(input()) # transforma sequencia de carcteres inteiro\n",
        "resposta = idade + 1 # soma dois inteiro \n",
        "print(nome, 'vai fazer', resposta, 'anos') # imprime tudo em sequencia usando espaço como separador\n"
      ],
      "metadata": {
        "colab": {
          "base_uri": "https://localhost:8080/"
        },
        "id": "9rWUK9v4p61r",
        "outputId": "b2d2386b-3662-4228-b126-b3febf3344b5"
      },
      "execution_count": null,
      "outputs": [
        {
          "output_type": "stream",
          "name": "stdout",
          "text": [
            "Mayumi\n",
            "16\n",
            "16\n",
            "Mayumi vai fazer 17 anos\n"
          ]
        }
      ]
    }
  ]
}