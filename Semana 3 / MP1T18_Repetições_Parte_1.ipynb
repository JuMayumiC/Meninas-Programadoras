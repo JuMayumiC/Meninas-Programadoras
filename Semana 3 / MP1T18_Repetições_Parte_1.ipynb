{
  "nbformat": 4,
  "nbformat_minor": 0,
  "metadata": {
    "colab": {
      "provenance": [],
      "include_colab_link": true
    },
    "kernelspec": {
      "name": "python3",
      "display_name": "Python 3"
    },
    "language_info": {
      "name": "python"
    }
  },
  "cells": [
    {
      "cell_type": "markdown",
      "metadata": {
        "id": "view-in-github",
        "colab_type": "text"
      },
      "source": [
        "<a href=\"https://colab.research.google.com/github/JuMayumiC/Meninas-Programadoras/blob/main/Semana%203%20/%20MP1T18_Repeti%C3%A7%C3%B5es_Parte_1.ipynb\" target=\"_parent\"><img src=\"https://colab.research.google.com/assets/colab-badge.svg\" alt=\"Open In Colab\"/></a>"
      ]
    },
    {
      "cell_type": "markdown",
      "source": [
        "---\n",
        "\n",
        "#**Condicional** *lembrando...* \n",
        "\n",
        "---\n",
        "\n",
        "> A sintaxe condicional é usada para executar um bloco de código com base em uma condição\n",
        "\n",
        "> variações\n",
        "\n",
        "```\n",
        "if condição:\n",
        "   # Código a ser executado se a condição for verdadeira\n",
        "```\n",
        "\n",
        "```\n",
        "if condição:\n",
        "    # Código a ser executado se a condição for verdadeira\n",
        "else:\n",
        "    # Código a ser executado se a condição for falsa\n",
        "```\n",
        "\n",
        "```\n",
        "if condição1:\n",
        "    # Código a ser executado se a condição1 for verdadeira\n",
        "elif condição2:\n",
        "    # Código a ser executado se a condição2 for verdadeira\n",
        "else:\n",
        "    # Código a ser executado se nenhuma das condições anteriores for verdadeira\n",
        "```\n",
        "**Exemplo**\n",
        "```\n",
        "idade = int(input())\n",
        "if idade < 18:\n",
        "    print(\"Você é menor de idade.\")\n",
        "elif idade >= 18 and idade < 65:\n",
        "    print(\"Você é adulta.\")\n",
        "else:\n",
        "    print(\"Você é um idosa.\")\n",
        "```\n",
        "\n",
        "\n",
        "**Então...**\n",
        "> cada bloco é executado **uma** vez\n"
      ],
      "metadata": {
        "id": "daVEGZ_wRn2u"
      }
    },
    {
      "cell_type": "markdown",
      "source": [
        "---\n",
        "**E se precisarmos realizar a tarefa do bloco mais que uma vez?**\n",
        "\n",
        "- como no *labirinto*\n",
        "- como no *rotas verdes*\n",
        "- como no *tire a maçã do labirinto*...\n",
        "\n",
        "---"
      ],
      "metadata": {
        "id": "apmvmVy1T4qD"
      }
    },
    {
      "cell_type": "markdown",
      "source": [
        "#**Repetições: parte 1**\n",
        "\n",
        "> **repetir um número desconhecido de vezes**\n",
        "\n",
        "- Enquanto houver mortos por Covid-19, faça uma cova e enterre a vítima com muito respeito\n",
        "\n",
        "- Enquanto houver bateria no celular, assista as aulas de revisão\n",
        "\n",
        "- Enquanto o copo não estiver cheio, coloque água no copo\n",
        "\n",
        "- Enquanto a gata não parar de comer, coloque uma bolinha de ração para a gata\n",
        "\n",
        "- Enquanto houver sujeira no tapete, passe o aspirador de pó\n",
        "\n",
        "- Copos vão chegando na pia... enquanto houver copos para lavar, lave um copo\n",
        "\n",
        "- Pessoas vão chegando no restaurante... enquanto houver pratos para lavar, lave um prato\n",
        "\n",
        "- Dado o valor a pagar, retire o número de moedas da carteira até que o valor retirado seja suficiente para pagar a valor devido"
      ],
      "metadata": {
        "id": "63WtA7yTWz2Z"
      }
    },
    {
      "cell_type": "markdown",
      "source": [
        "A sintaxe `while` é usada para criar um loop que executa repetidamente um bloco de código enquanto uma determinada condição for **verdadeira**.\n",
        "\n",
        "\n",
        "```\n",
        "while condição:\n",
        "    # Código a ser executado enquanto a condição for verdadeira\n",
        "```\n",
        "\n",
        "- se a condição for inicialmente verdadeira, o bloco de código dentro do while será repetido até que a condição especificada seja falsa \n",
        "- ao usar um **while**, é *nossa responsabilidade* garantir que a condição se torne **falsa**.. caso contrário ocorre um **loop** infinito, ou seja, o programa  executa para **sempre**....."
      ],
      "metadata": {
        "id": "RWqiQpljTJLu"
      }
    },
    {
      "cell_type": "markdown",
      "source": [
        "**Problema: babá eletrônica #1**  \n",
        "- *enquanto acordado* \n",
        "\n",
        "```\n",
        "lê um valor \n",
        "enquanto o valor lido for 'acordado'\n",
        "   lê novo valor\n",
        "imprime 'dormiu...'\n",
        "```"
      ],
      "metadata": {
        "id": "BR61fm-UXxi8"
      }
    },
    {
      "cell_type": "code",
      "source": [
        "nenem = input()\n",
        "while nenem == 'acordado':\n",
        "  nenem = input()\n",
        "print('dormiu...')"
      ],
      "metadata": {
        "colab": {
          "base_uri": "https://localhost:8080/"
        },
        "id": "RJ8BjpfLX91g",
        "outputId": "2c4ef46f-a775-4b1f-940a-b89ff15efbaf"
      },
      "execution_count": null,
      "outputs": [
        {
          "output_type": "stream",
          "name": "stdout",
          "text": [
            "acordado\n",
            "acordado\n",
            "ufa\n",
            "dormiu...\n"
          ]
        }
      ]
    },
    {
      "cell_type": "markdown",
      "source": [
        "**Problema: babá eletrônica #2**\n",
        "- *até dormir* \n",
        "\n",
        "```\n",
        "lê um valor \n",
        "enquanto o valor lido for diferente de 'dormiu'\n",
        "   lê novo valor\n",
        "imprime 'dormiu...'\n",
        "```"
      ],
      "metadata": {
        "id": "CG4skxF8Yx_Y"
      }
    },
    {
      "cell_type": "code",
      "source": [
        "nenem = input()\n",
        "while nenem != 'dormiu':\n",
        "  nenem = input()\n",
        "print('dormiu...')"
      ],
      "metadata": {
        "colab": {
          "base_uri": "https://localhost:8080/"
        },
        "id": "k8ufpgc7Ypuq",
        "outputId": "6f648646-037b-41ae-eee2-a8bfb0753a89"
      },
      "execution_count": null,
      "outputs": [
        {
          "output_type": "stream",
          "name": "stdout",
          "text": [
            "acordado\n",
            "acordado\n",
            "brincando\n",
            "chorando\n",
            "acordado\n",
            "dormiu\n",
            "dormiu...\n"
          ]
        }
      ]
    },
    {
      "cell_type": "markdown",
      "source": [
        "**Problema: Contador com base no número de entradas**\n",
        "- numero de moedas\n",
        "- numero de pratos\n",
        "- numero de copos\n",
        "- numero de alunas\n",
        "- numero de pessoas\n",
        "\n",
        "> Quando termina? o problema especifica quando a entrada termina\n",
        "- moedas, ex: valor negativo\n",
        "- pratos, ex: diferente de 'prato'\n",
        "- alunas, ex: valor diferente 'fim'\n",
        "\n",
        "```\n",
        "inicia contador com valor nulo\n",
        "enquanto for diferente do valor que indica o final das entradas\n",
        " incrementa contador\n",
        " lê nova entrada\n",
        "imprime contador\n",
        "```"
      ],
      "metadata": {
        "id": "yfO9ENMIaEsC"
      }
    },
    {
      "cell_type": "code",
      "source": [
        "contador = 0\n",
        "nome = input()\n",
        "while nome != 'fim':\n",
        "  contador = contador + 1\n",
        "  nome = input()\n",
        "print(contador)"
      ],
      "metadata": {
        "id": "0W5yK74Pcpmw"
      },
      "execution_count": null,
      "outputs": []
    },
    {
      "cell_type": "markdown",
      "source": [
        "**Problema: Somador com base no valor das entradas**\n",
        "- alunas: lista de nomes\n",
        "- moedas: valor total\n",
        "\n",
        "```\n",
        "inicia somador com valor nulo\n",
        "repete até o final das entradas\n",
        " atualiza somador com valor anterior mais novo valor\n",
        " lê nova entrada\n",
        "imprime somador\n",
        "```"
      ],
      "metadata": {
        "id": "Ye77F0QUcaUW"
      }
    },
    {
      "cell_type": "code",
      "source": [
        "lista = ''\n",
        "nome = input()\n",
        "while nome != 'fim':\n",
        "  lista = lista + nome + ' '\n",
        "  nome = input()\n",
        "print(lista)"
      ],
      "metadata": {
        "id": "ALRfHF0iepwc"
      },
      "execution_count": null,
      "outputs": []
    },
    {
      "cell_type": "code",
      "source": [
        "somador = 0\n",
        "valor = int(input())\n",
        "while valor != -1:\n",
        "  somador = somador + valor\n",
        "  valor = int(input())\n",
        "print(somador)"
      ],
      "metadata": {
        "id": "61cNhfYKeTUm"
      },
      "execution_count": null,
      "outputs": []
    },
    {
      "cell_type": "markdown",
      "source": [
        "---\n",
        "*Divirtam-se!*\n",
        "\n",
        "---"
      ],
      "metadata": {
        "id": "-UuU5DfvnBca"
      }
    }
  ]
}