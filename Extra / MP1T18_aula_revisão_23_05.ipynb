{
  "nbformat": 4,
  "nbformat_minor": 0,
  "metadata": {
    "colab": {
      "provenance": [],
      "include_colab_link": true
    },
    "kernelspec": {
      "name": "python3",
      "display_name": "Python 3"
    },
    "language_info": {
      "name": "python"
    }
  },
  "cells": [
    {
      "cell_type": "markdown",
      "metadata": {
        "id": "view-in-github",
        "colab_type": "text"
      },
      "source": [
        "<a href=\"https://colab.research.google.com/github/JuMayumiC/Meninas-Programadoras/blob/main/Extra%20/%20MP1T18_aula_revis%C3%A3o_23_05.ipynb\" target=\"_parent\"><img src=\"https://colab.research.google.com/assets/colab-badge.svg\" alt=\"Open In Colab\"/></a>"
      ]
    },
    {
      "cell_type": "markdown",
      "source": [
        "Como saber o resto da divisão inteira de um número pelo outro?"
      ],
      "metadata": {
        "id": "2pjmpg9TEpF2"
      }
    },
    {
      "cell_type": "code",
      "source": [
        "a = int(input())\n",
        "b = int(input())\n",
        "resto = a % b     # lembrem/pratiquem os demais operadores aritméticos\n",
        "print(resto)"
      ],
      "metadata": {
        "colab": {
          "base_uri": "https://localhost:8080/"
        },
        "id": "lCwhLi0BExQ3",
        "outputId": "6bcc2ccc-ad68-41f6-aaba-84e758f8e7b0"
      },
      "execution_count": null,
      "outputs": [
        {
          "output_type": "stream",
          "name": "stdout",
          "text": [
            "97\n",
            "5\n",
            "2\n"
          ]
        }
      ]
    },
    {
      "cell_type": "markdown",
      "source": [
        "---\n",
        "\n",
        "Número é par ou ímpar?"
      ],
      "metadata": {
        "id": "y_Dtr5wLEib_"
      }
    },
    {
      "cell_type": "code",
      "execution_count": null,
      "metadata": {
        "colab": {
          "base_uri": "https://localhost:8080/"
        },
        "id": "qfc-2AigELCO",
        "outputId": "65595b8d-7557-4db0-d801-7a80ec62bb42"
      },
      "outputs": [
        {
          "output_type": "stream",
          "name": "stdout",
          "text": [
            "65675675675675679597\n",
            "ímpar\n"
          ]
        }
      ],
      "source": [
        "a = int(input())\n",
        "resto = a % 2\n",
        "# se resto for zero entao é par senao é impar\n",
        "if resto == 0:\n",
        "  print('par')\n",
        "else:\n",
        "  print('ímpar')"
      ]
    },
    {
      "cell_type": "markdown",
      "source": [
        "---\n",
        "\n",
        "Quem 100% dos exercicios ganha selo de 100% de prática!"
      ],
      "metadata": {
        "id": "cbLGhA-PGEkY"
      }
    },
    {
      "cell_type": "code",
      "source": [
        "porcentagem = int(input())\n",
        "if porcentagem == 100:\n",
        "  print('Selo 100% de Prática no MP1T18')"
      ],
      "metadata": {
        "colab": {
          "base_uri": "https://localhost:8080/"
        },
        "id": "yY6Rk1-BGOUv",
        "outputId": "81c07122-8bce-4ca1-ca67-3abd80b80ed2"
      },
      "execution_count": null,
      "outputs": [
        {
          "output_type": "stream",
          "name": "stdout",
          "text": [
            "100\n",
            "Selo 100% de Prática no MP1T18\n"
          ]
        }
      ]
    },
    {
      "cell_type": "code",
      "source": [
        "a = int(input())\n",
        "if a > 0:\n",
        "  resposta = 'positivo' \n",
        "if a < 0: \n",
        "  resposta = 'negativo'\n",
        "if a == 0:\n",
        "  resposta = 'nulo'\n",
        "print(resposta)"
      ],
      "metadata": {
        "colab": {
          "base_uri": "https://localhost:8080/"
        },
        "id": "iMJMGOvTHEP1",
        "outputId": "3071b8cf-b684-4b92-8f2d-22d10c77710e"
      },
      "execution_count": null,
      "outputs": [
        {
          "output_type": "stream",
          "name": "stdout",
          "text": [
            "0\n",
            "nulo\n"
          ]
        }
      ]
    },
    {
      "cell_type": "code",
      "source": [
        "a = int(input())\n",
        "if a > 0:\n",
        "  resposta = 'positivo' \n",
        "elif a < 0: \n",
        "  resposta = 'negativo'\n",
        "elif a == 0:\n",
        "  resposta = 'nulo'\n",
        "print(resposta) "
      ],
      "metadata": {
        "id": "UDR9ltrVIpMX"
      },
      "execution_count": null,
      "outputs": []
    },
    {
      "cell_type": "code",
      "source": [
        "a = int(input())\n",
        "b = int(input())\n",
        "\n",
        "if a > b:\n",
        "  maior = a\n",
        "else:\n",
        "  maior = b\n",
        "\n",
        "# # if b > a:\n",
        "# #   maior = b\n",
        "# # if b == a:\n",
        "# #  maior = b\n",
        "print(maior)"
      ],
      "metadata": {
        "colab": {
          "base_uri": "https://localhost:8080/"
        },
        "id": "cIAo45DlI8et",
        "outputId": "64d3e6db-7226-40df-ef99-4aa57c9b783e"
      },
      "execution_count": null,
      "outputs": [
        {
          "output_type": "stream",
          "name": "stdout",
          "text": [
            "6\n",
            "8\n",
            "8\n"
          ]
        }
      ]
    },
    {
      "cell_type": "code",
      "source": [
        "a = int(input())\n",
        "b = int(input())\n",
        "\n",
        "if a > b:\n",
        "  maior = a\n",
        "if b > a:\n",
        "  maior = b\n",
        "if b == a:\n",
        " maior = 'iguais'\n",
        "print(maior)"
      ],
      "metadata": {
        "colab": {
          "base_uri": "https://localhost:8080/"
        },
        "id": "vYcwv43MKEMU",
        "outputId": "a6587f9c-eea5-4c7d-a3f4-3f4a30b6f4af"
      },
      "execution_count": null,
      "outputs": [
        {
          "output_type": "stream",
          "name": "stdout",
          "text": [
            "0\n",
            "0\n",
            "iguais\n"
          ]
        }
      ]
    },
    {
      "cell_type": "code",
      "source": [
        "a = int(input())\n",
        "b = int(input())\n",
        "\n",
        "if a > b:\n",
        "  maior = a\n",
        "elif b > a:\n",
        "  maior = b\n",
        "elif a == b:\n",
        " maior = 'iguais'\n",
        "print(maior)"
      ],
      "metadata": {
        "id": "qAjZwbpDKQfy"
      },
      "execution_count": null,
      "outputs": []
    },
    {
      "cell_type": "markdown",
      "source": [
        "---\n"
      ],
      "metadata": {
        "id": "ylQ-La5DK0c0"
      }
    },
    {
      "cell_type": "code",
      "source": [
        "linha = input()\n",
        "tamanho = len(linha)\n",
        "print(tamanho)"
      ],
      "metadata": {
        "colab": {
          "base_uri": "https://localhost:8080/"
        },
        "id": "0hR0qtZ0NPYq",
        "outputId": "71ffe3c4-6287-4789-dccc-ab7697c69690"
      },
      "execution_count": null,
      "outputs": [
        {
          "output_type": "stream",
          "name": "stdout",
          "text": [
            "daskdlakdlnklnckdldajkljkljkdcjnkldcajk\n",
            "39\n"
          ]
        }
      ]
    },
    {
      "cell_type": "code",
      "source": [
        "linha = input()\n",
        "contador = 0\n",
        "for letra in linha:\n",
        "  contador = contador + 1\n",
        "print(contador)"
      ],
      "metadata": {
        "colab": {
          "base_uri": "https://localhost:8080/"
        },
        "id": "J1MTJ_pgNfFB",
        "outputId": "9b4cbff3-f8b0-4152-d1c9-e601945221c9"
      },
      "execution_count": null,
      "outputs": [
        {
          "output_type": "stream",
          "name": "stdout",
          "text": [
            "fkldfjklfjaljdkldjfklasjfklçsjdfkla\n",
            "35\n"
          ]
        }
      ]
    },
    {
      "cell_type": "code",
      "source": [
        "linha = input()\n",
        "arroba = 0\n",
        "for caractere in linha:\n",
        "  if caractere == '@':\n",
        "    arroba = arroba + 1\n",
        "\n",
        "if arroba == 1:\n",
        "  print('email válido')\n",
        "else:\n",
        "  print('inválido para email')"
      ],
      "metadata": {
        "colab": {
          "base_uri": "https://localhost:8080/"
        },
        "id": "2U8EpF5AK1pq",
        "outputId": "746b67d7-9c41-414f-dbea-37e28aa111b6"
      },
      "execution_count": null,
      "outputs": [
        {
          "output_type": "stream",
          "name": "stdout",
          "text": [
            "maria\n",
            "inválido para email\n"
          ]
        }
      ]
    },
    {
      "cell_type": "code",
      "source": [
        "n = int(input())\n",
        "for i in range(n):\n",
        "  print('boa prova!')"
      ],
      "metadata": {
        "colab": {
          "base_uri": "https://localhost:8080/"
        },
        "id": "-1Z79rw-PnGP",
        "outputId": "c4463380-0006-4454-8d20-5c07d3366257"
      },
      "execution_count": null,
      "outputs": [
        {
          "output_type": "stream",
          "name": "stdout",
          "text": [
            "4\n",
            "boa prova!\n",
            "boa prova!\n",
            "boa prova!\n",
            "boa prova!\n"
          ]
        }
      ]
    },
    {
      "cell_type": "code",
      "source": [
        "n = int(input())\n",
        "sequencia = ''\n",
        "for i in range(1, n, 2):\n",
        "  sequencia = sequencia + i\n",
        "print(sequencia)"
      ],
      "metadata": {
        "id": "_QgiDsUmRs63"
      },
      "execution_count": null,
      "outputs": []
    },
    {
      "cell_type": "code",
      "source": [
        "n = int(input())\n",
        "sequencia = ''\n",
        "for i in range(n):\n",
        "  sequencia = sequencia + str(i) + ' '\n",
        "print(sequencia)"
      ],
      "metadata": {
        "colab": {
          "base_uri": "https://localhost:8080/"
        },
        "id": "K0tJM0TTQhKI",
        "outputId": "13cecc1e-637f-4386-cb9a-ebc7cc3f3592"
      },
      "execution_count": null,
      "outputs": [
        {
          "output_type": "stream",
          "name": "stdout",
          "text": [
            "9\n",
            "0 1 2 3 4 5 6 7 8 \n"
          ]
        }
      ]
    },
    {
      "cell_type": "code",
      "source": [
        "n = int(input())\n",
        "sequencia = ''\n",
        "for i in range(1, n, 2):\n",
        "  sequencia = sequencia + str(i) + ' '\n",
        "print(sequencia)"
      ],
      "metadata": {
        "colab": {
          "base_uri": "https://localhost:8080/"
        },
        "id": "viKu8iRrRbtx",
        "outputId": "cadea96e-b89c-4dbd-8aac-74c4a89c5a3c"
      },
      "execution_count": null,
      "outputs": [
        {
          "output_type": "stream",
          "name": "stdout",
          "text": [
            "51\n",
            "1 3 5 7 9 11 13 15 17 19 21 23 25 27 29 31 33 35 37 39 41 43 45 47 49 \n"
          ]
        }
      ]
    },
    {
      "cell_type": "code",
      "source": [
        "n = int(input())\n",
        "\n",
        "sequencia = '0 '\n",
        "contador = 0\n",
        "\n",
        "if contador < n:\n",
        "  contador = contador + 1\n",
        "  sequencia = sequencia + str(contador) + ' '\n",
        "\n",
        "if contador < n:\n",
        "  contador = contador + 1\n",
        "  sequencia = sequencia + str(contador) + ' '\n",
        "\n",
        "if contador < n:\n",
        "  contador = contador + 1\n",
        "  sequencia = sequencia + str(contador) + ' '\n",
        "\n",
        "if contador < n:\n",
        "  contador = contador + 1\n",
        "  sequencia = sequencia + str(contador) + ' '\n",
        "\n",
        "if contador < n:\n",
        "  contador = contador + 1\n",
        "  sequencia = sequencia + str(contador) + ' '\n",
        "\n",
        "if contador < n:\n",
        "  contador = contador + 1\n",
        "  sequencia = sequencia + str(contador) + ' '\n",
        "\n",
        "if contador < n:\n",
        "  contador = contador + 1\n",
        "  sequencia = sequencia + str(contador) + ' '\n",
        "\n",
        "if contador < n:\n",
        "  contador = contador + 1\n",
        "  sequencia = sequencia + str(contador) + ' '\n",
        "\n",
        "if contador < n:\n",
        "  contador = contador + 1\n",
        "  sequencia = sequencia + str(contador) + ' '\n",
        "\n",
        "if contador < n:\n",
        "  contador = contador + 1\n",
        "  sequencia = sequencia + str(contador) + ' '\n",
        "\n",
        "if contador < n:\n",
        "  contador = contador + 1\n",
        "  sequencia = sequencia + str(contador) + ' '\n",
        "\n",
        "if contador < n:\n",
        "  contador = contador + 1\n",
        "  sequencia = sequencia + str(contador) + ' '\n",
        "\n",
        "if contador < n:\n",
        "  contador = contador + 1\n",
        "  sequencia = sequencia + str(contador) + ' '\n",
        "\n",
        "if contador < n:\n",
        "  contador = contador + 1\n",
        "  sequencia = sequencia + str(contador) + ' '\n",
        "\n",
        "if contador < n:\n",
        "  contador = contador + 1\n",
        "  sequencia = sequencia + str(contador) + ' '\n",
        "\n",
        "if contador < n:\n",
        "  contador = contador + 1\n",
        "  sequencia = sequencia + str(contador) + ' '\n",
        "if contador < n:\n",
        "  contador = contador + 1\n",
        "  sequencia = sequencia + str(contador) + ' '\n",
        "\n",
        "if contador < n:\n",
        "  contador = contador + 1\n",
        "  sequencia = sequencia + str(contador) + ' '\n",
        "\n",
        "if contador < n:\n",
        "  contador = contador + 1\n",
        "  sequencia = sequencia + str(contador) + ' '\n",
        "\n",
        "if contador < n:\n",
        "  contador = contador + 1\n",
        "  sequencia = sequencia + str(contador) + ' '\n",
        "\n",
        "if contador < n:\n",
        "  contador = contador + 1\n",
        "  sequencia = sequencia + str(contador) + ' '\n",
        "\n",
        "if contador < n:\n",
        "  contador = contador + 1\n",
        "  sequencia = sequencia + str(contador) + ' '\n",
        "\n",
        "if contador < n:\n",
        "  contador = contador + 1\n",
        "  sequencia = sequencia + str(contador) + ' '\n",
        "\n",
        "if contador < n:\n",
        "  contador = contador + 1\n",
        "  sequencia = sequencia + str(contador) + ' '\n",
        "\n",
        "if contador < n:\n",
        "  contador = contador + 1\n",
        "  sequencia = sequencia + str(contador) + ' '\n",
        "\n",
        "if contador < n:\n",
        "  contador = contador + 1\n",
        "  sequencia = sequencia + str(contador) + ' '\n",
        "\n",
        "if contador < n:\n",
        "  contador = contador + 1\n",
        "  sequencia = sequencia + str(contador) + ' '\n",
        "\n",
        "if contador < n:\n",
        "  contador = contador + 1\n",
        "  sequencia = sequencia + str(contador) + ' '\n",
        "\n",
        "if contador < n:\n",
        "  contador = contador + 1\n",
        "  sequencia = sequencia + str(contador) + ' '\n",
        "\n",
        "if contador < n:\n",
        "  contador = contador + 1\n",
        "  sequencia = sequencia + str(contador) + ' '\n",
        "if contador < n:\n",
        "  contador = contador + 1\n",
        "  sequencia = sequencia + str(contador) + ' '\n",
        "\n",
        "print(sequencia)\n"
      ],
      "metadata": {
        "colab": {
          "base_uri": "https://localhost:8080/"
        },
        "id": "8y_0afELRrA-",
        "outputId": "40322832-9ba6-4360-9b71-1a550917c860"
      },
      "execution_count": null,
      "outputs": [
        {
          "output_type": "stream",
          "name": "stdout",
          "text": [
            "35\n",
            "0 1 2 3 4 5 6 7 8 9 10 11 12 13 14 15 16 17 18 19 20 21 22 23 24 25 26 27 28 29 30 31 \n"
          ]
        }
      ]
    },
    {
      "cell_type": "code",
      "source": [
        "n = int(input())\n",
        "\n",
        "sequencia = '0 '\n",
        "contador = 0\n",
        "\n",
        "while contador < n:\n",
        "  contador = contador + 1\n",
        "  sequencia = sequencia + str(contador) + ' '\n",
        "\n",
        "print(sequencia)"
      ],
      "metadata": {
        "colab": {
          "base_uri": "https://localhost:8080/"
        },
        "id": "q2U8Sq5-U1Yu",
        "outputId": "5d291432-c153-41a8-cc83-9b6bb9ac09da"
      },
      "execution_count": null,
      "outputs": [
        {
          "output_type": "stream",
          "name": "stdout",
          "text": [
            "300\n",
            "0 1 2 3 4 5 6 7 8 9 10 11 12 13 14 15 16 17 18 19 20 21 22 23 24 25 26 27 28 29 30 31 32 33 34 35 36 37 38 39 40 41 42 43 44 45 46 47 48 49 50 51 52 53 54 55 56 57 58 59 60 61 62 63 64 65 66 67 68 69 70 71 72 73 74 75 76 77 78 79 80 81 82 83 84 85 86 87 88 89 90 91 92 93 94 95 96 97 98 99 100 101 102 103 104 105 106 107 108 109 110 111 112 113 114 115 116 117 118 119 120 121 122 123 124 125 126 127 128 129 130 131 132 133 134 135 136 137 138 139 140 141 142 143 144 145 146 147 148 149 150 151 152 153 154 155 156 157 158 159 160 161 162 163 164 165 166 167 168 169 170 171 172 173 174 175 176 177 178 179 180 181 182 183 184 185 186 187 188 189 190 191 192 193 194 195 196 197 198 199 200 201 202 203 204 205 206 207 208 209 210 211 212 213 214 215 216 217 218 219 220 221 222 223 224 225 226 227 228 229 230 231 232 233 234 235 236 237 238 239 240 241 242 243 244 245 246 247 248 249 250 251 252 253 254 255 256 257 258 259 260 261 262 263 264 265 266 267 268 269 270 271 272 273 274 275 276 277 278 279 280 281 282 283 284 285 286 287 288 289 290 291 292 293 294 295 296 297 298 299 300 \n"
          ]
        }
      ]
    },
    {
      "cell_type": "code",
      "source": [
        "nome = input()\n",
        "saida = ''\n",
        "while nome != 'Maria':\n",
        "  saida = saida + nome + ' '\n",
        "  nome = input()\n",
        "print('fim:', saida)"
      ],
      "metadata": {
        "colab": {
          "base_uri": "https://localhost:8080/"
        },
        "id": "1RHtO9fjVTgV",
        "outputId": "55f64e5b-07a4-4fe9-8c72-ec88277f4337"
      },
      "execution_count": null,
      "outputs": [
        {
          "output_type": "stream",
          "name": "stdout",
          "text": [
            "Emmilly\n",
            "Letícia\n",
            "Grazielle\n",
            "Yasmin\n",
            "Sofia\n",
            "Carol\n",
            "Biana\n",
            "Bianca\n",
            "Maria\n",
            "fim: Emmilly Letícia Grazielle Yasmin Sofia Carol Biana Bianca \n"
          ]
        }
      ]
    },
    {
      "cell_type": "code",
      "source": [
        "alvo = int(input())\n",
        "chute = int(input())\n",
        "contador = 0\n",
        "while chute != alvo:\n",
        "  chute = int(input())\n",
        "  contador = contador + 1\n",
        "print(contador)"
      ],
      "metadata": {
        "colab": {
          "base_uri": "https://localhost:8080/"
        },
        "id": "ZKwMn39SWr30",
        "outputId": "53e4a0bf-acb3-4cff-fd5c-fd6c0a1c9f4e"
      },
      "execution_count": null,
      "outputs": [
        {
          "output_type": "stream",
          "name": "stdout",
          "text": [
            "7\n",
            "1\n",
            "5\n",
            "9\n",
            "4\n",
            "5\n",
            "2\n",
            "6\n",
            "3\n",
            "8\n",
            "5\n",
            "3\n",
            "6\n",
            "4\n",
            "6\n",
            "6\n",
            "7\n",
            "15\n"
          ]
        }
      ]
    }
  ]
}