{
  "nbformat": 4,
  "nbformat_minor": 0,
  "metadata": {
    "colab": {
      "provenance": [],
      "include_colab_link": true
    },
    "kernelspec": {
      "name": "python3",
      "display_name": "Python 3"
    },
    "language_info": {
      "name": "python"
    }
  },
  "cells": [
    {
      "cell_type": "markdown",
      "metadata": {
        "id": "view-in-github",
        "colab_type": "text"
      },
      "source": [
        "<a href=\"https://colab.research.google.com/github/JuMayumiC/Meninas-Programadoras/blob/main/Semana%202%20/%20t18_aula_2.ipynb\" target=\"_parent\"><img src=\"https://colab.research.google.com/assets/colab-badge.svg\" alt=\"Open In Colab\"/></a>"
      ]
    },
    {
      "cell_type": "markdown",
      "source": [
        "#**1. RETOMANDO A AULA ANTERIOR**"
      ],
      "metadata": {
        "id": "MV2NiBMIef-U"
      }
    },
    {
      "cell_type": "markdown",
      "source": [
        "**Sintaxe para incluir strings em nossos programas**\n",
        "- usamos aspas simples ou aspas duplas como limitadores\n",
        "- se precisamos de uma na string, utilizamos a outra como limitador"
      ],
      "metadata": {
        "id": "aCDrWn6Vb0qY"
      }
    },
    {
      "cell_type": "code",
      "source": [
        "# exemplo de comentario\n",
        "\n",
        "doutora = \"Dra.\"\n",
        "senhora = \"Sra.\"\n",
        "senhorita = 'Srta.'\n",
        "#exemplo1 = 'Caixa D'agua'\n",
        "exemplo1 = \"Caixa D'agua\"\n",
        "exemplo2 = 'ela disse: \"Venceremos!\" e saiu...'\n"
      ],
      "metadata": {
        "id": "K-U05dUnGnQY"
      },
      "execution_count": null,
      "outputs": []
    },
    {
      "cell_type": "code",
      "source": [
        "nome = 'Poly'\n",
        "nomeA = nome\n",
        "nomeB = 'nome'\n",
        "nomeC = \"Maria\"\n",
        "\n",
        "aluna = nome\n",
        "monitora = input()\n",
        "print(nome, aluna, monitora)"
      ],
      "metadata": {
        "colab": {
          "base_uri": "https://localhost:8080/"
        },
        "id": "Cv83Wun7IKpP",
        "outputId": "6132e61b-8f12-43a1-8766-091de2d411f2"
      },
      "execution_count": null,
      "outputs": [
        {
          "output_type": "stream",
          "name": "stdout",
          "text": [
            "Helen Picoli\n",
            "Poly Poly Helen Picoli\n"
          ]
        }
      ]
    },
    {
      "cell_type": "markdown",
      "source": [
        "**Objetos, classes e instâncias**\n",
        "\n",
        "_lembremos do nosso exemplo do quebra-cabeças (blocky games) estendido com ações que os animais podem fazer_\n",
        "\n",
        "- Uma classe define as características e comportamentos que um objeto pode ter. É como um molde que pode ser usado para criar múltiplas instâncias (objetos) com propriedades e comportamentos semelhantes.\n",
        "\n",
        "- Nesse contexto, uma \"instância\" refere-se a um objeto específico criado a partir de uma classe.\n",
        "\n",
        "**tipo de dados pré-definidos em Python** \n",
        "- valores possíveis\n",
        "- operações possíveis\n"
      ],
      "metadata": {
        "id": "kxwHImkCDBtg"
      }
    },
    {
      "cell_type": "code",
      "execution_count": null,
      "metadata": {
        "id": "QSBctbdFAqXH"
      },
      "outputs": [],
      "source": [
        "nome = 'Ana Clara'    # instancia da classe string\n",
        "idade = 19            # instancia da classe inteiro\n",
        "salario =  1234.56    # instancia da classe float"
      ]
    },
    {
      "cell_type": "markdown",
      "source": [
        "\n",
        ">  **sequencia de caracteres (string)**\n",
        "- 'a...z' 'A...Z' '!@#$%¨&*()_-+='  '0123456789'\n",
        "- soma: resulta na concatenacao\n",
        "- multiplicacao: string multiplica pelo numero de vezes dado\n",
        "\n",
        ">  **inteiro**\n",
        "- de menos infinito a mais infinito, de uma em uma unidade\n",
        "- *simplificao*: -999999999 a +999999999\n",
        "- `+ - * / // % **`\n",
        "\n",
        "> **float**\n",
        "- de menos infinito a mais infinito, com infinitos valores entre cada um...\n",
        "- *simplificao*: -999999999.99999999 a +999999999.9999999\n",
        "- `+ - * / // % **`\n",
        "\n"
      ],
      "metadata": {
        "id": "IhX1rLn8Nf-A"
      }
    },
    {
      "cell_type": "code",
      "source": [
        "nome = 'Ana Clara 3'    # instancia da classe string\n",
        "_nome = 'meu nome'\n",
        "idade = 23            # instancia da classe inteiro\n",
        "salario =  1234.56   # instancia da classe float"
      ],
      "metadata": {
        "id": "gCH17qQPHtl9"
      },
      "execution_count": null,
      "outputs": []
    },
    {
      "cell_type": "markdown",
      "source": [
        "**Operadores válidos para inteiros**"
      ],
      "metadata": {
        "id": "BmSDqLj2d-eR"
      }
    },
    {
      "cell_type": "code",
      "source": [
        "idade = 22\n",
        "j = idade + 1\n",
        "print(j)\n",
        "j = idade - 1\n",
        "print(j)\n",
        "j = idade / 1\n",
        "print(j)\n",
        "j = idade // 1\n",
        "print(j)\n",
        "j = idade * 1\n",
        "print(j)\n",
        "j = idade % 1\n",
        "print(j)\n",
        "j = idade ** 1\n",
        "print(j)"
      ],
      "metadata": {
        "colab": {
          "base_uri": "https://localhost:8080/"
        },
        "id": "XYYbqRSHMESk",
        "outputId": "51c87c67-8800-453d-9382-ea7dc1135901"
      },
      "execution_count": null,
      "outputs": [
        {
          "output_type": "stream",
          "name": "stdout",
          "text": [
            "23\n",
            "21\n",
            "22.0\n",
            "22\n",
            "22\n",
            "0\n",
            "22\n"
          ]
        }
      ]
    },
    {
      "cell_type": "markdown",
      "source": [
        "**Operadores válidos para strings**"
      ],
      "metadata": {
        "id": "GLgTWTxeeGkt"
      }
    },
    {
      "cell_type": "code",
      "source": [
        "string1 = 'Ana Clara'\n",
        "print(string1)\n",
        "string1 = string1 + '!!!!'\n",
        "print(string1)\n",
        "string1 = string1 * 3\n",
        "print(string1)"
      ],
      "metadata": {
        "colab": {
          "base_uri": "https://localhost:8080/"
        },
        "id": "24dJpcGdMhJp",
        "outputId": "0b72b725-fbd1-4d1a-ab1e-43ae3a4ce819"
      },
      "execution_count": null,
      "outputs": [
        {
          "output_type": "stream",
          "name": "stdout",
          "text": [
            "Ana Clara\n",
            "Ana Clara!!!!\n",
            "Ana Clara!!!!Ana Clara!!!!Ana Clara!!!!\n"
          ]
        }
      ]
    },
    {
      "cell_type": "markdown",
      "source": [
        "**Operadores válidos para float**"
      ],
      "metadata": {
        "id": "skiQGGeGeLUd"
      }
    },
    {
      "cell_type": "code",
      "source": [
        "idade = 61.9\n",
        "j = idade + 1\n",
        "print(j)\n",
        "j = idade - 1\n",
        "print(j)\n",
        "j = idade / 1\n",
        "print(j)\n",
        "j = idade // 1\n",
        "print(j)\n",
        "j = idade * 1\n",
        "print(j)\n",
        "j = idade % 1\n",
        "print(j)\n",
        "j = idade ** 1\n",
        "print(j)"
      ],
      "metadata": {
        "colab": {
          "base_uri": "https://localhost:8080/"
        },
        "id": "iE2Dbz-7QGY2",
        "outputId": "ae6dedf8-44f2-4aea-ffad-b46e22a9a97e"
      },
      "execution_count": null,
      "outputs": [
        {
          "output_type": "stream",
          "name": "stdout",
          "text": [
            "62.9\n",
            "60.9\n",
            "61.9\n",
            "61.0\n",
            "61.9\n",
            "0.8999999999999986\n",
            "61.9\n"
          ]
        }
      ]
    },
    {
      "cell_type": "code",
      "source": [
        "a = 13.5\n",
        "b = 3\n",
        "print(a + b)\n",
        "print(a - b)\n",
        "print(a / b)\n",
        "print(a * b)"
      ],
      "metadata": {
        "colab": {
          "base_uri": "https://localhost:8080/"
        },
        "id": "jIRTQ_1VQjyY",
        "outputId": "0aab84ea-8884-44c5-af9f-8111ec14915a"
      },
      "execution_count": null,
      "outputs": [
        {
          "output_type": "stream",
          "name": "stdout",
          "text": [
            "16.5\n",
            "10.5\n",
            "4.5\n",
            "40.5\n"
          ]
        }
      ]
    },
    {
      "cell_type": "markdown",
      "source": [
        "**RESUMINDO**\n",
        "\n",
        "- tipos de dados de Python: valores possiveis e suas operacoes correspondentes\n",
        " - string\n",
        " - inteiro\n",
        " - float\n",
        "\n",
        "- funções pre-definidas de Python, ex: \n",
        " - `input()` \n",
        " - `print()`\n",
        " - `int()`\n",
        " - `float()`\n",
        "\n"
      ],
      "metadata": {
        "id": "woPiwtsaRDRN"
      }
    },
    {
      "cell_type": "code",
      "source": [
        "entrada = input()\n",
        "print(entrada * 3)"
      ],
      "metadata": {
        "colab": {
          "base_uri": "https://localhost:8080/"
        },
        "id": "fIGetSa3R28V",
        "outputId": "e03ea43e-8468-4e5d-fb78-e54c0bc66e1b"
      },
      "execution_count": null,
      "outputs": [
        {
          "output_type": "stream",
          "name": "stdout",
          "text": [
            "Leticia\n",
            "LeticiaLeticiaLeticia\n"
          ]
        }
      ]
    },
    {
      "cell_type": "code",
      "source": [
        "inteiro = int(input())\n",
        "print(inteiro * 3)\n",
        "\n",
        "real = float(input())\n",
        "print(real / 3)\n"
      ],
      "metadata": {
        "colab": {
          "base_uri": "https://localhost:8080/"
        },
        "id": "ZBy-EOqzSPD9",
        "outputId": "6cc07df7-1293-4f53-f486-d0a3e3203ea6"
      },
      "execution_count": null,
      "outputs": [
        {
          "output_type": "stream",
          "name": "stdout",
          "text": [
            "34\n",
            "102\n",
            "3.141516\n",
            "1.047172\n"
          ]
        }
      ]
    },
    {
      "cell_type": "markdown",
      "source": [
        "#**2. SEQUENCIA DE COMANDOS VS EXECUÇÃO OPCIONAL DE COMANDOS**\n",
        "\n",
        "EXECUÇÃO OPCIONAL\n",
        "- ela vota? é obrigatório?\n",
        "- ela pode ter CNH?\n",
        "- ela pode fazer o Meninas Programadoras?\n",
        "\n",
        "SINTAXE\n",
        "```\n",
        "if condição:\n",
        "    # bloco de código executado se a condição for verdadeira\n",
        "```\n",
        "\n",
        "**OPERADORES DE COMPARAÇÃO**\n",
        ">  `> >= < <= == !=`\n",
        "\n"
      ],
      "metadata": {
        "id": "DWwpUhNsXi8Q"
      }
    },
    {
      "cell_type": "code",
      "source": [
        "resposta = 'pode ter CNH'\n",
        "idade = int(input())\n",
        "if idade < 18:\n",
        "  resposta = 'não ' + resposta\n",
        "print(resposta)"
      ],
      "metadata": {
        "colab": {
          "base_uri": "https://localhost:8080/"
        },
        "id": "6j0Y0PSzdRzO",
        "outputId": "d6a00076-ffa9-49d4-8521-8626027bcb5f"
      },
      "execution_count": null,
      "outputs": [
        {
          "output_type": "stream",
          "name": "stdout",
          "text": [
            "61\n",
            "pode ter CNH\n"
          ]
        }
      ]
    },
    {
      "cell_type": "code",
      "source": [
        "idade = int(input())\n",
        "if idade > 18:\n",
        "  print('pode ter CNH')\n",
        "else:\n",
        "  print('não pode ter CNH')"
      ],
      "metadata": {
        "id": "dP5oGs-pe3dw"
      },
      "execution_count": null,
      "outputs": []
    },
    {
      "cell_type": "code",
      "source": [
        "idade = int(input())\n",
        "if idade > 18:\n",
        "  resposta = 'pode ter CNH'\n",
        "else:\n",
        "  resposta = 'não pode ter CNH'\n",
        "print(resposta)"
      ],
      "metadata": {
        "id": "fUpWZUHmesPx"
      },
      "execution_count": null,
      "outputs": []
    },
    {
      "cell_type": "code",
      "source": [
        "pode = 'pode ter CNH'\n",
        "nao_pode = 'não pode ter CNH'\n",
        "\n",
        "idade = int(input())\n",
        "if idade > 17:\n",
        "  resposta = pode\n",
        "else:\n",
        "  resposta = nao_pode\n",
        "print(resposta)"
      ],
      "metadata": {
        "id": "FQGzAs-LYbrI"
      },
      "execution_count": null,
      "outputs": []
    },
    {
      "cell_type": "code",
      "source": [
        "if = 'ingles para \"se\"'    # erro de sintaxe porque a gente nao pode usar if para nome de variavel\n"
      ],
      "metadata": {
        "id": "Vn7lrO4Cb-zD"
      },
      "execution_count": null,
      "outputs": []
    },
    {
      "cell_type": "code",
      "source": [
        "pode = 'pode ter CNH'\n",
        "naopode = 'não '   # vou usar soma de naopode com pode\n",
        "\n",
        "resposta = pode\n",
        "idade = int(input())\n",
        "\n",
        "print(resposta)"
      ],
      "metadata": {
        "colab": {
          "base_uri": "https://localhost:8080/"
        },
        "id": "5xjemDGIbqOl",
        "outputId": "982e2ff5-c289-4a25-9253-9f86905a63c8"
      },
      "execution_count": null,
      "outputs": [
        {
          "output_type": "stream",
          "name": "stdout",
          "text": [
            "55\n",
            "pode ter CNH\n"
          ]
        }
      ]
    },
    {
      "cell_type": "markdown",
      "source": [
        "```\n",
        "if condição:\n",
        "    # bloco de código executado se a condição for verdadeira\n",
        "elif condição:   OPCIONAL\n",
        "    # bloco de código executado se a primeira condição for falsa e esta condição for verdadeira\n",
        "else:  OPCIONAL\n",
        "    # bloco de código executado se todas as condições anteriores forem falsas\n",
        "```"
      ],
      "metadata": {
        "id": "fFHA8B6iZe_X"
      }
    },
    {
      "cell_type": "code",
      "source": [
        "# tudo o que precisa\n",
        "\n",
        "resolvidos = int(input())\n",
        "if resolvidos == 100:\n",
        "  print('selo 100% de exercicios resolvidos')"
      ],
      "metadata": {
        "colab": {
          "base_uri": "https://localhost:8080/"
        },
        "id": "bLKsACS4fMAg",
        "outputId": "f2050acc-c7b0-40f8-b520-f37d9183aadc"
      },
      "execution_count": null,
      "outputs": [
        {
          "output_type": "stream",
          "name": "stdout",
          "text": [
            "100\n",
            "selo 100% de exercicios resolvidos\n"
          ]
        }
      ]
    },
    {
      "cell_type": "code",
      "source": [
        "# tudo o que precisa\n",
        "\n",
        "resolvidos = int(input())\n",
        "if resolvidos >=95:\n",
        "  print('selo 100% de exercicios resolvidos')"
      ],
      "metadata": {
        "colab": {
          "base_uri": "https://localhost:8080/"
        },
        "id": "bYHIXQ_TgPDp",
        "outputId": "62129e76-498d-4e1c-9608-6ce4d80a421a"
      },
      "execution_count": null,
      "outputs": [
        {
          "name": "stdout",
          "output_type": "stream",
          "text": [
            "84\n"
          ]
        }
      ]
    },
    {
      "cell_type": "code",
      "source": [
        "a = int(input())\n",
        "b = int(input())\n",
        "if a == b:\n",
        "  print('a == b')\n",
        "if a >= b:\n",
        "  print('a >= b')\n",
        "if a <= b:\n",
        "  print('a <= b')\n",
        "if a != b:\n",
        "  print('a != b')"
      ],
      "metadata": {
        "colab": {
          "base_uri": "https://localhost:8080/"
        },
        "id": "nFkEKjejgeyH",
        "outputId": "7feec532-9c03-4ecb-ac9a-4dd6dbcb59a5"
      },
      "execution_count": null,
      "outputs": [
        {
          "output_type": "stream",
          "name": "stdout",
          "text": [
            "99\n",
            "100\n",
            "a <= b\n",
            "a != b\n"
          ]
        }
      ]
    },
    {
      "cell_type": "code",
      "source": [
        "a = input()\n",
        "b = input()\n",
        "if a == b:\n",
        "  print('a == b')\n",
        "if a != b:\n",
        "  print('a != b')"
      ],
      "metadata": {
        "colab": {
          "base_uri": "https://localhost:8080/"
        },
        "id": "uA6ijeuphWbW",
        "outputId": "497d886f-2643-4f10-eb64-2d26c78f84f3"
      },
      "execution_count": null,
      "outputs": [
        {
          "output_type": "stream",
          "name": "stdout",
          "text": [
            "Maria\n",
            "maria\n",
            "a != b\n"
          ]
        }
      ]
    },
    {
      "cell_type": "code",
      "source": [
        "a = float(input())\n",
        "b = float(input())\n",
        "if a == b:\n",
        "  print('a == b')\n",
        "if a >= b:\n",
        "  print('a >= b')\n",
        "if a <= b:\n",
        "  print('a <= b')\n",
        "if a != b:\n",
        "  print('a != b')"
      ],
      "metadata": {
        "colab": {
          "base_uri": "https://localhost:8080/"
        },
        "id": "ZKXYjW_ah2Kv",
        "outputId": "f6f2a2dc-2516-4414-d64a-902201452aef"
      },
      "execution_count": null,
      "outputs": [
        {
          "output_type": "stream",
          "name": "stdout",
          "text": [
            "3.1415169\n",
            "3.141516\n",
            "a >= b\n",
            "a != b\n"
          ]
        }
      ]
    },
    {
      "cell_type": "code",
      "source": [
        "idade = int(input())\n",
        "if idade >= 16:\n",
        "  print('pode votar')\n",
        "  if idade >= 18:\n",
        "    print('obrigatorio votar')"
      ],
      "metadata": {
        "colab": {
          "base_uri": "https://localhost:8080/"
        },
        "id": "s2rlgfUwiPr3",
        "outputId": "f1e33ca9-9802-47b2-c065-90b94c4e8d36"
      },
      "execution_count": null,
      "outputs": [
        {
          "output_type": "stream",
          "name": "stdout",
          "text": [
            "18\n",
            "pode votar\n",
            "obrigatorio votar\n"
          ]
        }
      ]
    },
    {
      "cell_type": "code",
      "source": [
        "idade = int(input())\n",
        "if idade >= 16:\n",
        "  print('pode votar')\n",
        "  if idade >= 18:\n",
        "    if idade < 60:\n",
        "      print('obrigatorio votar')"
      ],
      "metadata": {
        "colab": {
          "base_uri": "https://localhost:8080/"
        },
        "id": "kDllebkBiyj-",
        "outputId": "77c6ba9c-d147-4d9a-9ed9-347a9f5de691"
      },
      "execution_count": null,
      "outputs": [
        {
          "output_type": "stream",
          "name": "stdout",
          "text": [
            "60\n",
            "pode votar\n"
          ]
        }
      ]
    },
    {
      "cell_type": "markdown",
      "source": [
        "**OPERADORES LÓGICOS**\n",
        "- and\n",
        "- or \n",
        "- not"
      ],
      "metadata": {
        "id": "IYSAcY5ojmKb"
      }
    },
    {
      "cell_type": "code",
      "source": [
        "idade = int(input())\n",
        "\n",
        "if idade > 15 and idade < 18:\n",
        "  print('voto jovem facultativo')\n",
        "elif idade > 59:\n",
        "  print('voto idoso facultativo')\n",
        "elif idade >= 18:\n",
        "  print('voto obrigatório')\n",
        "else:\n",
        "  print('nao pode votar ainda....')"
      ],
      "metadata": {
        "id": "VJ2c08lUjFZc"
      },
      "execution_count": null,
      "outputs": []
    },
    {
      "cell_type": "code",
      "source": [
        "idade = int(input())\n",
        "if idade == 16 or idade == 17 or idade >= 60:\n",
        "  print('voto facultativo')\n",
        "elif idade < 16:\n",
        "  print('voto não permitido ainda.....')\n",
        "else:\n",
        "  print('voto obrigatorio')"
      ],
      "metadata": {
        "colab": {
          "base_uri": "https://localhost:8080/"
        },
        "id": "kbOODYKllURQ",
        "outputId": "9ed49aea-f1b3-49ff-bc30-a967d233acdc"
      },
      "execution_count": null,
      "outputs": [
        {
          "output_type": "stream",
          "name": "stdout",
          "text": [
            "31\n",
            "voto obrigatorio\n"
          ]
        }
      ]
    },
    {
      "cell_type": "code",
      "source": [
        "idade = int(input())\n",
        "if idade < 16:\n",
        "  print('voto ainda nao permitido')\n",
        "if idade ==  16:\n",
        "  print('voto facultativo')\n",
        "if idade ==  17:\n",
        "  print('voto facultativo')\n",
        "if idade >= 60:\n",
        "  print('voto facultativo')\n",
        "if idade >= 18 and idade <= 59:\n",
        "  print('voto obrigatorio')"
      ],
      "metadata": {
        "id": "gqksTl2EmpFP"
      },
      "execution_count": null,
      "outputs": []
    },
    {
      "cell_type": "code",
      "source": [
        "idade = int(input())\n",
        "if idade < 16:\n",
        "  print('voto ainda nao permitido')\n",
        "elif idade ==  16:\n",
        "  print('voto facultativo')\n",
        "elif idade ==  17:\n",
        "  print('voto facultativo')\n",
        "elif idade >= 60:\n",
        "  print('voto facultativo')\n",
        "elif idade >= 18 and idade <= 59:\n",
        "  print('voto obrigatorio')"
      ],
      "metadata": {
        "id": "QNJ52cGYp03v"
      },
      "execution_count": null,
      "outputs": []
    },
    {
      "cell_type": "code",
      "source": [
        "idade = int(input())\n",
        "if idade < 16:\n",
        "  print('voto ainda nao permitido')\n",
        "elif idade == 16 or idade ==  17:\n",
        "  print('voto facultativo')\n",
        "elif idade >= 60:\n",
        "  print('voto facultativo')\n",
        "elif idade >= 18 and idade <= 59:\n",
        "  print('voto obrigatorio')"
      ],
      "metadata": {
        "id": "UbT-SxAOqTZy"
      },
      "execution_count": null,
      "outputs": []
    },
    {
      "cell_type": "code",
      "source": [
        "nota = float(input())\n",
        "if nota == 10.0:\n",
        "  print('aluna do meninas programadoras nota 10')\n",
        "else:\n",
        "  print('aluna do meninas programadoras')"
      ],
      "metadata": {
        "id": "MySdCxImrBj1"
      },
      "execution_count": null,
      "outputs": []
    },
    {
      "cell_type": "markdown",
      "source": [
        "**maior entre dois valores**"
      ],
      "metadata": {
        "id": "LjO63CKIrgPn"
      }
    },
    {
      "cell_type": "code",
      "source": [
        "a = int(input())\n",
        "b = int(input())\n",
        "\n",
        "if a > b:\n",
        "  print('a > b')\n",
        "else:\n",
        "  print('a <= b')"
      ],
      "metadata": {
        "colab": {
          "base_uri": "https://localhost:8080/"
        },
        "id": "xdG8LLpQrlBd",
        "outputId": "0abadc5d-eb3c-4b80-c14d-8d9d2c170b4c"
      },
      "execution_count": null,
      "outputs": [
        {
          "output_type": "stream",
          "name": "stdout",
          "text": [
            "4 \n",
            "4\n",
            "a <= b\n"
          ]
        }
      ]
    },
    {
      "cell_type": "code",
      "source": [
        "a = int(input())\n",
        "b = int(input())\n",
        "\n",
        "if a > b:\n",
        "  print('a > b')\n",
        "else:\n",
        "  if a == b:\n",
        "    print('a == b')\n",
        "  else:\n",
        "    print('a < b')"
      ],
      "metadata": {
        "id": "cGO_TGPisWJ0"
      },
      "execution_count": null,
      "outputs": []
    },
    {
      "cell_type": "code",
      "source": [
        "a = int(input())\n",
        "b = int(input())\n",
        "\n",
        "if a > b:\n",
        "  print('a > b')\n",
        "elif a == b:\n",
        "    print('a == b')\n",
        "else:\n",
        "    print('a < b')"
      ],
      "metadata": {
        "id": "nyFssKq7snFO"
      },
      "execution_count": null,
      "outputs": []
    },
    {
      "cell_type": "markdown",
      "source": [
        "**Quem é o maior? e o menor?**\n",
        "\n",
        "> exemplo\n",
        "- a = 0\n",
        "- b = 0\n",
        "- c = 0\n",
        "\n",
        "> outro exemplo\n",
        "- a = 100\n",
        "- b = 111\n",
        "- c = 10\n",
        "\n",
        "> mais um exemplo\n",
        "- a = 11\n",
        "- b = 100\n",
        "- c = 10\n",
        "\n",
        "> mais outro exemplo\n",
        "- a = 10\n",
        "- b = 11\n",
        "- c = 100"
      ],
      "metadata": {
        "id": "OMnmM_sEtBHr"
      }
    },
    {
      "cell_type": "markdown",
      "source": [
        "##**3. OPERADOR in**\n",
        "\n",
        "O operador `in` é usado em Python para verificar se um valor está presente em uma sequência\n",
        "> uma sequência é uma coleção ordenada de elementos\n",
        "- a sequência que vimos até agora foi *string* \n",
        "- veremos outro tipo de sequência ainda neste curso\n",
        "\n",
        "> O opeador 'in' retorna um valor booleano (True ou False) com base na existência ou não do valor na sequência.\n",
        "\n",
        "A sintaxe básica do operador `in` é a seguinte:\n",
        "\n",
        "```\n",
        "valor in sequência\n",
        "```\n",
        "sendo\n",
        "- *valor* aquele que queremos verificar\n",
        "- *sequência* é a sequência na qual desejamos fazer a verificação\n",
        "\n",
        "Exemplo: \n",
        "```\n",
        "letra = input()\n",
        "if letra in 'aeiou':\n",
        "   print('é uma vogal')\n",
        "else:\n",
        "   print('não é uma vogal')\n",
        "```"
      ],
      "metadata": {
        "id": "lwgF_Wy09gJr"
      }
    },
    {
      "cell_type": "code",
      "source": [
        "s1 = 'nome'\n",
        "s2 = 'sobrenome'\n",
        "print(s1 in s2)"
      ],
      "metadata": {
        "colab": {
          "base_uri": "https://localhost:8080/"
        },
        "id": "iEIFIW59ZGYi",
        "outputId": "68d613d2-40d7-4a25-8c63-7b345bb41720"
      },
      "execution_count": null,
      "outputs": [
        {
          "output_type": "stream",
          "name": "stdout",
          "text": [
            "True\n"
          ]
        }
      ]
    },
    {
      "cell_type": "code",
      "source": [
        "s1 = \"Indiferença\"\n",
        "s2 = \"Respeito é fundamental\"\n",
        "print(s1 in s2)"
      ],
      "metadata": {
        "colab": {
          "base_uri": "https://localhost:8080/"
        },
        "id": "3i6cE09bZSrB",
        "outputId": "9458892b-78cc-4486-d911-d3062942ed1a"
      },
      "execution_count": null,
      "outputs": [
        {
          "output_type": "stream",
          "name": "stdout",
          "text": [
            "False\n"
          ]
        }
      ]
    }
  ]
}